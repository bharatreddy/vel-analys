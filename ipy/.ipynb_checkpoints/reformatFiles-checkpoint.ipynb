{
 "cells": [
  {
   "cell_type": "code",
   "execution_count": 1,
   "metadata": {
    "collapsed": true
   },
   "outputs": [],
   "source": [
    "import os"
   ]
  },
  {
   "cell_type": "code",
   "execution_count": null,
   "metadata": {
    "collapsed": false
   },
   "outputs": [],
   "source": [
    "# In this ipython notebook, we'll reformat the velocity files!!\n",
    "inpDir = \"/home/bharat/Documents/code/veldata\"\n",
    "outDir = \"/home/bharat/Documents/code/frmtd-vels/\"\n",
    "# Loop through the base directory and sub directories\n",
    "# and get a list of ephemeris files that we need!\n",
    "fileList = []\n",
    "for root, dirs, files in os.walk(inpDir):\n",
    "    for fName in files:\n",
    "        currFile = root + fName\n",
    "        outFormattedFile = outDir + \"frmtd-\" + fName\n",
    "        os.system( 'cat ' + currFile + ' | tr -s \"  \" > ' + outFormattedFile )\n",
    "        "
   ]
  },
  {
   "cell_type": "code",
   "execution_count": null,
   "metadata": {
    "collapsed": true
   },
   "outputs": [],
   "source": []
  }
 ],
 "metadata": {
  "kernelspec": {
   "display_name": "Python 2",
   "language": "python",
   "name": "python2"
  },
  "language_info": {
   "codemirror_mode": {
    "name": "ipython",
    "version": 2
   },
   "file_extension": ".py",
   "mimetype": "text/x-python",
   "name": "python",
   "nbconvert_exporter": "python",
   "pygments_lexer": "ipython2",
   "version": "2.7.6"
  }
 },
 "nbformat": 4,
 "nbformat_minor": 1
}

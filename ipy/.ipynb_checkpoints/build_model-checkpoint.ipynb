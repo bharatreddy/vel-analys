{
 "cells": [
  {
   "cell_type": "code",
   "execution_count": 1,
   "metadata": {
    "collapsed": true
   },
   "outputs": [],
   "source": [
    "import pandas\n",
    "import datetime\n",
    "import numpy\n",
    "from sklearn import linear_model\n",
    "import scipy\n",
    "from scipy.optimize import curve_fit\n",
    "import seaborn as sns\n",
    "import matplotlib.pyplot as plt\n",
    "%matplotlib inline\n",
    "from matplotlib.colors import ListedColormap\n",
    "from matplotlib.colors import Normalize\n",
    "from matplotlib import ticker\n",
    "from matplotlib import rcParams"
   ]
  },
  {
   "cell_type": "code",
   "execution_count": 2,
   "metadata": {
    "collapsed": false
   },
   "outputs": [],
   "source": [
    "# Some parameters we'll use\n",
    "probCutOff = 0.2\n",
    "modelVelScale = [ 0., 2000. ]\n",
    "velsNormArr = numpy.arange(0.,2100.,100.) / max( modelVelScale )\n",
    "dstVal = -100."
   ]
  },
  {
   "cell_type": "code",
   "execution_count": 3,
   "metadata": {
    "collapsed": true
   },
   "outputs": [],
   "source": [
    "# SAPS Prob Pred Func\n",
    "def saps_prob_pred_func(MLAT, normMLT, dst):    \n",
    "    (a_sx, b_sx, a_sy, b_sy, a_xo, b_xo, a_yo, b_yo, a_o, b_o, theta) = \\\n",
    "        ( 3.11, 3.71e-03, 1.72,\\\n",
    "             8.19e-04, 4.59, 6.33e-02, -1.19, 3.21e-02,\n",
    "             8.93e-01, -1.47e-03, 6.92e-01)\n",
    "    x = MLAT - 57.5 # NORMALIZE\n",
    "    y = normMLT\n",
    "    sigma_x = a_sx + b_sx * dst\n",
    "    sigma_y = a_sy + b_sy * dst\n",
    "    xo = a_xo + b_xo * dst\n",
    "    yo = a_yo + b_yo * dst\n",
    "    amplitude = a_o + b_o * dst    \n",
    "    \n",
    "    a = (numpy.cos(theta)**2)/(2*sigma_x**2) + (numpy.sin(theta)**2)/(2*sigma_y**2)\n",
    "    b = -(numpy.sin(2*theta))/(4*sigma_x**2) + (numpy.sin(2*theta))/(4*sigma_y**2)\n",
    "    c = (numpy.sin(theta)**2)/(2*sigma_x**2) + (numpy.cos(theta)**2)/(2*sigma_y**2)\n",
    "    prob = amplitude*numpy.exp( - (a*((x-xo)**2) + 2*b*(x-xo)*(y-yo) \n",
    "                            + c*((y-yo)**2)))\n",
    "    return prob"
   ]
  },
  {
   "cell_type": "code",
   "execution_count": 4,
   "metadata": {
    "collapsed": true
   },
   "outputs": [],
   "source": [
    "# SAPS Vel Azim Pred Func\n",
    "def saps_velAzim_pred_func(normMLT, dst):\n",
    "\n",
    "    ( a1mlt_azim, a2mlt_azim,\\\n",
    "               b1mlt_azim, b2mlt_azim ) = ( -1.18e+01, -4.55e-02, 4.24e-01, -6.13e-03 )\n",
    "    \n",
    "    # model shape parameters\n",
    "    # mlt\n",
    "    a_azim = a1mlt_azim + a2mlt_azim * dst\n",
    "    b_azim = b1mlt_azim + b2mlt_azim * dst\n",
    "    # func\n",
    "    azim = a_azim + b_azim*(normMLT)\n",
    "    \n",
    "    return azim"
   ]
  },
  {
   "cell_type": "code",
   "execution_count": 5,
   "metadata": {
    "collapsed": true
   },
   "outputs": [],
   "source": [
    "# SAPS Vel Magn Pred Funcs\n",
    "# We need to get the scale, shape and loc\n",
    "# parameters and then use them get the pdf \n",
    "# and then get the mean velocity from the pdf!!!\n",
    "def saps_vm_scale_pred_func(mlt,mlat, dst):\n",
    "    \n",
    "    ( a_ascmlt, b_ascmlt, a_bscmlt, \\\n",
    "         b_bscmlt, a_cscmlt, b_cscmlt,\\\n",
    "         a_asclat, b_asclat, a_bsclat, b_bsclat ) = ( -1.23e-02, -6.02e-05, -2.9e-04,\\\n",
    "                            -1.79e-05, -1.26e-04, -3.32e-06,\\\n",
    "                            3.47e+01, 2.2e-01, -8.09e-01, -9.76e-04 )\n",
    "    \n",
    "    \n",
    "    a_scale_mlt = a_ascmlt + b_ascmlt * dst\n",
    "    b_scale_mlt = a_bscmlt + b_bscmlt * dst\n",
    "    c_scale_mlt = a_cscmlt + b_cscmlt * dst\n",
    "    # mlat\n",
    "    a_scale_mlat = a_asclat + b_asclat * dst\n",
    "    b_scale_mlat = a_bsclat + b_bsclat * dst\n",
    "    # func\n",
    "    scale = ( a_scale_mlt + b_scale_mlt*(mlt) + c_scale_mlt*(mlt**2) ) * ( a_scale_mlat + b_scale_mlat*(mlat) )\n",
    "    \n",
    "    return scale\n",
    "\n",
    "\n",
    "def saps_vm_shape_pred_func(mlt,mlat, dst):\n",
    "    \n",
    "    ( a_ashmlt, b_ashmlt, a_bshmlt, b_bshmlt,\\\n",
    "               a_ashlat, b_ashlat, a_bshlat, b_bshlat ) = ( -4.72e-02, -3.63e-04, -1.59e-03,\\\n",
    "                                     -2.3e-06, -5.61e+03, 1.19e+02, 8.42e+01, -2.05e+00 ) \n",
    "    \n",
    "    # model shape parameters\n",
    "    # mlt\n",
    "    a_shape_mlt = a_ashmlt + b_ashmlt * dst\n",
    "    b_shape_mlt = a_bshmlt + b_bshmlt * dst\n",
    "    # mlat\n",
    "    a_shape_mlat = a_ashlat + b_ashlat * dst\n",
    "    b_shape_mlat = a_bshlat + b_bshlat * dst\n",
    "    # func\n",
    "    shape = ( a_shape_mlt + b_shape_mlt*(mlt) ) * ( a_shape_mlat + b_shape_mlat*(mlat) )\n",
    "    \n",
    "    return shape\n",
    "\n",
    "def saps_vm_loc_pred_func(mlt,mlat, dst):\n",
    "    \n",
    "    \n",
    "    ( a_alcmlt, b_alcmlt, a_blcmlt, b_blcmlt,\\\n",
    "               a_alclat, b_alclat, a_blclat, b_blclat ) = ( -2.81e-03, -2.11e-05, -1.01e-04, -5.51e-06,\\\n",
    "                                        -5.39e-01, 1.50e-03, 7.38e-02, -1.33e-04 )\n",
    "    \n",
    "    \n",
    "    # model loc parameters\n",
    "    # mlt\n",
    "    a_loc_mlt = a_alcmlt + b_alcmlt * dst\n",
    "    b_loc_mlt = a_blcmlt + b_blcmlt * dst\n",
    "    # malt\n",
    "    a_loc_mlat = a_alclat + b_alclat * dst\n",
    "    b_loc_mlat = a_blclat + b_blclat * dst\n",
    "    # func\n",
    "    loc = ( a_loc_mlt + b_loc_mlt*(mlt) ) * ( a_loc_mlat*numpy.exp(b_loc_mlat*mlat) )\n",
    "    return loc\n",
    "\n",
    "def saps_velMagn_mean_pred_func( scale, shape, loc ):\n",
    "    \n",
    "    meanNormVel = scipy.stats.skewnorm.mean( shape, loc=loc, scale=scale )\n",
    "    meanVel = meanNormVel * max( modelVelScale )\n",
    "    return meanVel"
   ]
  },
  {
   "cell_type": "code",
   "execution_count": 6,
   "metadata": {
    "collapsed": false
   },
   "outputs": [
    {
     "data": {
      "text/html": [
       "<div style=\"max-height:1000px;max-width:1500px;overflow:auto;\">\n",
       "<table border=\"1\" class=\"dataframe\">\n",
       "  <thead>\n",
       "    <tr style=\"text-align: right;\">\n",
       "      <th></th>\n",
       "      <th>normMLT</th>\n",
       "      <th>normLAT</th>\n",
       "      <th>prob_pred</th>\n",
       "      <th>MLT</th>\n",
       "      <th>MLAT</th>\n",
       "      <th>dst_index</th>\n",
       "      <th>shape_pred</th>\n",
       "      <th>scale_pred</th>\n",
       "      <th>loc_pred</th>\n",
       "      <th>mean_vel_pred</th>\n",
       "      <th>azim_pred</th>\n",
       "    </tr>\n",
       "  </thead>\n",
       "  <tbody>\n",
       "    <tr>\n",
       "      <th>0</th>\n",
       "      <td>-4</td>\n",
       "      <td>-7.0</td>\n",
       "      <td> 0.22</td>\n",
       "      <td> 20</td>\n",
       "      <td> 50.5</td>\n",
       "      <td>-120</td>\n",
       "      <td>-5.195278</td>\n",
       "      <td> 0.217105</td>\n",
       "      <td> 0.168472</td>\n",
       "      <td>  -3.26</td>\n",
       "      <td>-10.98</td>\n",
       "    </tr>\n",
       "    <tr>\n",
       "      <th>1</th>\n",
       "      <td>-3</td>\n",
       "      <td>-7.0</td>\n",
       "      <td> 0.23</td>\n",
       "      <td> 21</td>\n",
       "      <td> 50.5</td>\n",
       "      <td>-120</td>\n",
       "      <td>-0.970900</td>\n",
       "      <td> 0.218405</td>\n",
       "      <td> 0.131002</td>\n",
       "      <td>  19.23</td>\n",
       "      <td> -9.82</td>\n",
       "    </tr>\n",
       "    <tr>\n",
       "      <th>2</th>\n",
       "      <td>-5</td>\n",
       "      <td>-6.5</td>\n",
       "      <td> 0.25</td>\n",
       "      <td> 19</td>\n",
       "      <td> 51.0</td>\n",
       "      <td>-120</td>\n",
       "      <td>-8.935914</td>\n",
       "      <td> 0.203905</td>\n",
       "      <td> 0.215394</td>\n",
       "      <td> 107.42</td>\n",
       "      <td>-12.14</td>\n",
       "    </tr>\n",
       "    <tr>\n",
       "      <th>3</th>\n",
       "      <td>-4</td>\n",
       "      <td>-6.5</td>\n",
       "      <td> 0.33</td>\n",
       "      <td> 20</td>\n",
       "      <td> 51.0</td>\n",
       "      <td>-120</td>\n",
       "      <td>-4.928477</td>\n",
       "      <td> 0.219924</td>\n",
       "      <td> 0.176205</td>\n",
       "      <td>   8.47</td>\n",
       "      <td>-10.98</td>\n",
       "    </tr>\n",
       "    <tr>\n",
       "      <th>4</th>\n",
       "      <td>-3</td>\n",
       "      <td>-6.5</td>\n",
       "      <td> 0.32</td>\n",
       "      <td> 21</td>\n",
       "      <td> 51.0</td>\n",
       "      <td>-120</td>\n",
       "      <td>-0.921040</td>\n",
       "      <td> 0.221241</td>\n",
       "      <td> 0.137016</td>\n",
       "      <td>  34.85</td>\n",
       "      <td> -9.82</td>\n",
       "    </tr>\n",
       "  </tbody>\n",
       "</table>\n",
       "</div>"
      ],
      "text/plain": [
       "   normMLT  normLAT  prob_pred  MLT  MLAT  dst_index  shape_pred  scale_pred  \\\n",
       "0       -4     -7.0       0.22   20  50.5       -120   -5.195278    0.217105   \n",
       "1       -3     -7.0       0.23   21  50.5       -120   -0.970900    0.218405   \n",
       "2       -5     -6.5       0.25   19  51.0       -120   -8.935914    0.203905   \n",
       "3       -4     -6.5       0.33   20  51.0       -120   -4.928477    0.219924   \n",
       "4       -3     -6.5       0.32   21  51.0       -120   -0.921040    0.221241   \n",
       "\n",
       "   loc_pred  mean_vel_pred  azim_pred  \n",
       "0  0.168472          -3.26     -10.98  \n",
       "1  0.131002          19.23      -9.82  \n",
       "2  0.215394         107.42     -12.14  \n",
       "3  0.176205           8.47     -10.98  \n",
       "4  0.137016          34.85      -9.82  "
      ]
     },
     "execution_count": 6,
     "metadata": {},
     "output_type": "execute_result"
    }
   ],
   "source": [
    "colList = [\"normMLT\", \"normLAT\", \"prob_pred\",\\\n",
    "           \"MLT\", \"MLAT\", \"dst_index\", \"shape_pred\",\\\n",
    "           \"scale_pred\", \"loc_pred\", \"mean_vel_pred\", \"azim_pred\"]\n",
    "sapsPredDF = pandas.DataFrame(columns=colList)\n",
    "latArr = []\n",
    "mltArr = []\n",
    "normLatArr = []\n",
    "normMltArr = []\n",
    "dstValArr = []\n",
    "dstBinArr = []\n",
    "\n",
    "\n",
    "for x in numpy.arange(50., 65., 0.5):\n",
    "    for y in range(-11,5):\n",
    "        currNormLat =  x - 57.5\n",
    "        normLatArr.append( currNormLat )\n",
    "        normMltArr.append( y )\n",
    "        if y > 0:\n",
    "            mltArr.append( y )\n",
    "        else:\n",
    "            mltArr.append( y + 24 )\n",
    "        latArr.append( x )\n",
    "        dstValArr.append(dstVal)\n",
    "        \n",
    "sapsPredDF[\"MLT\"] = mltArr\n",
    "sapsPredDF[\"MLAT\"] = latArr\n",
    "sapsPredDF[\"normMLT\"] = normMltArr\n",
    "sapsPredDF[\"normLAT\"] = normLatArr\n",
    "sapsPredDF[\"dst_index\"] = dstValArr\n",
    "\n",
    "\n",
    "\n",
    "# Now calculate the prob of occ!!\n",
    "sapsPredDF[\"prob_pred\"] = saps_prob_pred_func( sapsPredDF[\"MLAT\"],\\\n",
    "                                sapsPredDF[\"normMLT\"], sapsPredDF[\"dst_index\"] )\n",
    "# Only keep those values whose Dst is gt 0.2\n",
    "sapsPredDF = sapsPredDF[ sapsPredDF[\"prob_pred\"] > 0.2 ].reset_index(drop=True)\n",
    "\n",
    "# Now calculate the vel azim\n",
    "sapsPredDF[\"azim_pred\"] = saps_velAzim_pred_func( sapsPredDF[\"normMLT\"], sapsPredDF[\"dst_index\"] )\n",
    "\n",
    "\n",
    "# Calculate vel mean magn now!\n",
    "# We'll calculate scale, loc and shape\n",
    "# Scale\n",
    "sapsPredDF[\"scale_pred\"] = saps_vm_scale_pred_func( sapsPredDF[\"normMLT\"],\\\n",
    "                                        sapsPredDF[\"MLAT\"], sapsPredDF[\"dst_index\"] )\n",
    "# loc\n",
    "sapsPredDF[\"shape_pred\"] = saps_vm_shape_pred_func( sapsPredDF[\"normMLT\"],\\\n",
    "                                        sapsPredDF[\"MLAT\"], sapsPredDF[\"dst_index\"] )\n",
    "# Shape\n",
    "sapsPredDF[\"loc_pred\"] = saps_vm_loc_pred_func( sapsPredDF[\"normMLT\"],\\\n",
    "                                        sapsPredDF[\"MLAT\"], sapsPredDF[\"dst_index\"] )\n",
    "# Finally get to the velocities\n",
    "sapsPredDF[\"mean_vel_pred\"] = saps_velMagn_mean_pred_func( sapsPredDF[\"scale_pred\"],\\\n",
    "                                        sapsPredDF[\"shape_pred\"], sapsPredDF[\"loc_pred\"] )\n",
    "# Round off all values to 2 decimal places!\n",
    "sapsPredDF[\"prob_pred\"] = sapsPredDF[\"prob_pred\"].round(decimals=2)\n",
    "sapsPredDF[\"mean_vel_pred\"] = sapsPredDF[\"mean_vel_pred\"].round(decimals=2)\n",
    "sapsPredDF[\"azim_pred\"] = sapsPredDF[\"azim_pred\"].round(decimals=2)\n",
    "# sapsPredDF.round\n",
    "# Consider only those velocities whose magn are greater than 200 m/s\n",
    "# sapsPredDF = sapsPredDF[ sapsPredDF[\"mean_vel_pred\"] > 200.].reset_index(drop=True)\n",
    "sapsPredDF.head()"
   ]
  },
  {
   "cell_type": "code",
   "execution_count": 7,
   "metadata": {
    "collapsed": false
   },
   "outputs": [
    {
     "name": "stdout",
     "output_type": "stream",
     "text": [
      "saved to--> ../data/full-model-sample-dst-120.txt\n"
     ]
    }
   ],
   "source": [
    "# Write the DF to a csv for plotting purposes\n",
    "outCols = [\"MLT\", \"MLAT\", \"prob_pred\", \"dst_index\", \"mean_vel_pred\", \"azim_pred\"]\n",
    "outFileName = \"../data/full-model-sample-dst\" + str(int(dstVal)) + \".txt\"\n",
    "sapsPredDF.to_csv(outFileName, columns = outCols, sep=' ', index=False, header=None)\n",
    "print \"saved to-->\", outFileName"
   ]
  },
  {
   "cell_type": "code",
   "execution_count": 8,
   "metadata": {
    "collapsed": false
   },
   "outputs": [
    {
     "name": "stdout",
     "output_type": "stream",
     "text": [
      "Empty DataFrame\n",
      "Columns: [normMLT, normLAT, prob_pred, MLT, MLAT, dst_index, shape_pred, scale_pred, loc_pred, mean_vel_pred, azim_pred]\n",
      "Index: []\n"
     ]
    }
   ],
   "source": [
    "print sapsPredDF[ (sapsPredDF[\"mean_vel_pred\"] > 700.) & \\\n",
    "                (sapsPredDF[\"normMLT\"] > -4)]"
   ]
  },
  {
   "cell_type": "code",
   "execution_count": 9,
   "metadata": {
    "collapsed": false
   },
   "outputs": [
    {
     "name": "stdout",
     "output_type": "stream",
     "text": [
      "    normMLT  normLAT  prob_pred  MLT  MLAT  dst_index  shape_pred  scale_pred  \\\n",
      "34       -8     -3.5       0.25   16  54.0       -120  -14.150822    0.072840   \n",
      "41       -8     -3.0       0.31   16  54.5       -120  -13.016255    0.073707   \n",
      "48       -8     -2.5       0.36   16  55.0       -120  -11.881688    0.074574   \n",
      "55       -8     -2.0       0.39   16  55.5       -120  -10.747121    0.075441   \n",
      "61       -8     -1.5       0.40   16  56.0       -120   -9.612554    0.076308   \n",
      "67       -8     -1.0       0.39   16  56.5       -120   -8.477986    0.077175   \n",
      "73       -8     -0.5       0.35   16  57.0       -120   -7.343419    0.078042   \n",
      "78       -8      0.0       0.30   16  57.5       -120   -6.208852    0.078909   \n",
      "83       -8      0.5       0.24   16  58.0       -120   -5.074285    0.079776   \n",
      "\n",
      "    loc_pred  mean_vel_pred  azim_pred  \n",
      "34  0.435855         755.76     -15.62  \n",
      "41  0.455862         794.45     -15.62  \n",
      "48  0.476787         834.99     -15.62  \n",
      "55  0.498673         877.48     -15.62  \n",
      "61  0.521563         922.01     -15.62  \n",
      "67  0.545504         968.70     -15.62  \n",
      "73  0.570544        1017.69     -15.62  \n",
      "78  0.596733        1069.15     -15.62  \n",
      "83  0.624124        1123.35     -15.62  \n"
     ]
    }
   ],
   "source": [
    "print sapsPredDF[ (sapsPredDF[\"normMLT\"] == -8) ]"
   ]
  },
  {
   "cell_type": "code",
   "execution_count": 17,
   "metadata": {
    "collapsed": false
   },
   "outputs": [
    {
     "name": "stdout",
     "output_type": "stream",
     "text": [
      "    normMLT  normLAT  prob_pred  MLT  MLAT  dst_index  shape_pred  scale_pred  \\\n",
      "0        -4     -7.0       0.22   20  50.5       -120   -5.195278    0.217105   \n",
      "3        -4     -6.5       0.33   20  51.0       -120   -4.928477    0.219924   \n",
      "8        -4     -6.0       0.45   20  51.5       -120   -4.661675    0.222743   \n",
      "13       -4     -5.5       0.59   20  52.0       -120   -4.394874    0.225563   \n",
      "19       -4     -5.0       0.73   20  52.5       -120   -4.128072    0.228382   \n",
      "25       -4     -4.5       0.84   20  53.0       -120   -3.861270    0.231201   \n",
      "31       -4     -4.0       0.92   20  53.5       -120   -3.594469    0.234020   \n",
      "38       -4     -3.5       0.95   20  54.0       -120   -3.327667    0.236840   \n",
      "45       -4     -3.0       0.92   20  54.5       -120   -3.060866    0.239659   \n",
      "52       -4     -2.5       0.84   20  55.0       -120   -2.794064    0.242478   \n",
      "59       -4     -2.0       0.72   20  55.5       -120   -2.527262    0.245298   \n",
      "65       -4     -1.5       0.58   20  56.0       -120   -2.260461    0.248117   \n",
      "71       -4     -1.0       0.44   20  56.5       -120   -1.993659    0.250936   \n",
      "77       -4     -0.5       0.32   20  57.0       -120   -1.726858    0.253755   \n",
      "82       -4      0.0       0.22   20  57.5       -120   -1.460056    0.256575   \n",
      "\n",
      "    loc_pred  mean_vel_pred  azim_pred  \n",
      "0   0.168472          -3.26     -10.98  \n",
      "3   0.176205           8.47     -10.98  \n",
      "8   0.184293          21.05     -10.98  \n",
      "13  0.192753          34.53     -10.98  \n",
      "19  0.201601          49.00     -10.98  \n",
      "25  0.210855          64.55     -10.98  \n",
      "31  0.220533          81.29     -10.98  \n",
      "38  0.230656          99.36     -10.98  \n",
      "45  0.241244         118.96     -10.98  \n",
      "52  0.252318         140.33     -10.98  \n",
      "59  0.263900         163.82     -10.98  \n",
      "65  0.276013         189.94     -10.98  \n",
      "71  0.288683         219.43     -10.98  \n",
      "77  0.301934         253.45     -10.98  \n",
      "82  0.315794         293.79     -10.98  \n"
     ]
    }
   ],
   "source": [
    "print sapsPredDF[ (sapsPredDF[\"normMLT\"] == -4) ]"
   ]
  },
  {
   "cell_type": "code",
   "execution_count": null,
   "metadata": {
    "collapsed": true
   },
   "outputs": [],
   "source": []
  }
 ],
 "metadata": {
  "kernelspec": {
   "display_name": "Python 2",
   "language": "python",
   "name": "python2"
  },
  "language_info": {
   "codemirror_mode": {
    "name": "ipython",
    "version": 2
   },
   "file_extension": ".py",
   "mimetype": "text/x-python",
   "name": "python",
   "nbconvert_exporter": "python",
   "pygments_lexer": "ipython2",
   "version": "2.7.9"
  }
 },
 "nbformat": 4,
 "nbformat_minor": 1
}

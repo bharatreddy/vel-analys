{
 "cells": [
  {
   "cell_type": "code",
   "execution_count": 1,
   "metadata": {
    "collapsed": true
   },
   "outputs": [],
   "source": [
    "import pandas\n",
    "import datetime\n",
    "import numpy\n",
    "from sklearn import linear_model\n",
    "import scipy\n",
    "from scipy.optimize import curve_fit\n",
    "import seaborn as sns\n",
    "import matplotlib.pyplot as plt\n",
    "%matplotlib inline\n",
    "from matplotlib.colors import ListedColormap\n",
    "from matplotlib.colors import Normalize\n",
    "from matplotlib import ticker\n",
    "from matplotlib import rcParams"
   ]
  },
  {
   "cell_type": "code",
   "execution_count": 2,
   "metadata": {
    "collapsed": false
   },
   "outputs": [],
   "source": [
    "# Some parameters we'll use\n",
    "probCutOff = 0.2\n",
    "modelVelScale = [ 0., 2000. ]\n",
    "velsNormArr = numpy.arange(0.,2100.,100.) / max( modelVelScale )\n",
    "dstVal = -50."
   ]
  },
  {
   "cell_type": "code",
   "execution_count": 3,
   "metadata": {
    "collapsed": true
   },
   "outputs": [],
   "source": [
    "# SAPS Prob Pred Func\n",
    "def saps_prob_pred_func(MLAT, normMLT, dst):    \n",
    "    (a_sx, b_sx, a_sy, b_sy, a_xo, b_xo, a_yo, b_yo, a_o, b_o, theta) = \\\n",
    "        ( 3.11, 3.71e-03, 1.72,\\\n",
    "             8.19e-04, 4.59, 6.33e-02, -1.19, 3.21e-02,\n",
    "             8.93e-01, -1.47e-03, 6.92e-01)\n",
    "    x = MLAT - 57.5 # NORMALIZE\n",
    "    y = normMLT\n",
    "    sigma_x = a_sx + b_sx * dst\n",
    "    sigma_y = a_sy + b_sy * dst\n",
    "    xo = a_xo + b_xo * dst\n",
    "    yo = a_yo + b_yo * dst\n",
    "    amplitude = a_o + b_o * dst    \n",
    "    \n",
    "    a = (numpy.cos(theta)**2)/(2*sigma_x**2) + (numpy.sin(theta)**2)/(2*sigma_y**2)\n",
    "    b = -(numpy.sin(2*theta))/(4*sigma_x**2) + (numpy.sin(2*theta))/(4*sigma_y**2)\n",
    "    c = (numpy.sin(theta)**2)/(2*sigma_x**2) + (numpy.cos(theta)**2)/(2*sigma_y**2)\n",
    "    prob = amplitude*numpy.exp( - (a*((x-xo)**2) + 2*b*(x-xo)*(y-yo) \n",
    "                            + c*((y-yo)**2)))\n",
    "    return prob"
   ]
  },
  {
   "cell_type": "code",
   "execution_count": 4,
   "metadata": {
    "collapsed": true
   },
   "outputs": [],
   "source": [
    "# SAPS Vel Azim Pred Func\n",
    "def saps_velAzim_pred_func(normMLT, dst):\n",
    "\n",
    "    ( a1mlt_azim, a2mlt_azim,\\\n",
    "               b1mlt_azim, b2mlt_azim ) = ( -1.18e+01, -4.55e-02, 4.24e-01, -6.13e-03 )\n",
    "    \n",
    "    # model shape parameters\n",
    "    # mlt\n",
    "    a_azim = a1mlt_azim + a2mlt_azim * dst\n",
    "    b_azim = b1mlt_azim + b2mlt_azim * dst\n",
    "    # func\n",
    "    azim = a_azim + b_azim*(normMLT)\n",
    "    \n",
    "    return azim"
   ]
  },
  {
   "cell_type": "code",
   "execution_count": 5,
   "metadata": {
    "collapsed": true
   },
   "outputs": [],
   "source": [
    "# SAPS Vel Magn Pred Funcs\n",
    "# We need to get the scale, shape and loc\n",
    "# parameters and then use them get the pdf \n",
    "# and then get the mean velocity from the pdf!!!\n",
    "def saps_vm_scale_pred_func(mlt,mlat, dst):\n",
    "    \n",
    "    ( a_ascmlt, b_ascmlt, a_bscmlt, \\\n",
    "         b_bscmlt, a_cscmlt, b_cscmlt,\\\n",
    "         a_asclat, b_asclat, a_bsclat, b_bsclat ) = ( -1.23e-02, -6.02e-05, -2.9e-04,\\\n",
    "                            -1.79e-05, -1.26e-04, -3.32e-06,\\\n",
    "                            3.47e+01, 2.2e-01, -8.09e-01, -9.76e-04 )\n",
    "    \n",
    "    \n",
    "    a_scale_mlt = a_ascmlt + b_ascmlt * dst\n",
    "    b_scale_mlt = a_bscmlt + b_bscmlt * dst\n",
    "    c_scale_mlt = a_cscmlt + b_cscmlt * dst\n",
    "    # mlat\n",
    "    a_scale_mlat = a_asclat + b_asclat * dst\n",
    "    b_scale_mlat = a_bsclat + b_bsclat * dst\n",
    "    # func\n",
    "    scale = ( a_scale_mlt + b_scale_mlt*(mlt) + c_scale_mlt*(mlt**2) ) * ( a_scale_mlat + b_scale_mlat*(mlat) )\n",
    "    \n",
    "    return scale\n",
    "\n",
    "\n",
    "def saps_vm_shape_pred_func(mlt,mlat, dst):\n",
    "    \n",
    "    ( a_ashmlt, b_ashmlt, a_bshmlt, b_bshmlt,\\\n",
    "               a_ashlat, b_ashlat, a_bshlat, b_bshlat ) = ( -4.72e-02, -3.63e-04, -1.59e-03,\\\n",
    "                                     -2.3e-06, -5.61e+03, 1.19e+02, 8.42e+01, -2.05e+00 ) \n",
    "    \n",
    "    # model shape parameters\n",
    "    # mlt\n",
    "    a_shape_mlt = a_ashmlt + b_ashmlt * dst\n",
    "    b_shape_mlt = a_bshmlt + b_bshmlt * dst\n",
    "    # mlat\n",
    "    a_shape_mlat = a_ashlat + b_ashlat * dst\n",
    "    b_shape_mlat = a_bshlat + b_bshlat * dst\n",
    "    # func\n",
    "    shape = ( a_shape_mlt + b_shape_mlt*(mlt) ) * ( a_shape_mlat + b_shape_mlat*(mlat) )\n",
    "    \n",
    "    return shape\n",
    "\n",
    "def saps_vm_loc_pred_func(mlt,mlat, dst):\n",
    "    \n",
    "    \n",
    "    ( a_alcmlt, b_alcmlt, a_blcmlt, b_blcmlt,\\\n",
    "               a_alclat, b_alclat, a_blclat, b_blclat ) = ( -2.81e-03, -2.11e-05, -1.01e-04, -5.51e-06,\\\n",
    "                                        -5.39e-01, 1.50e-03, 7.38e-02, -1.33e-04 )\n",
    "    \n",
    "    \n",
    "    # model loc parameters\n",
    "    # mlt\n",
    "    a_loc_mlt = a_alcmlt + b_alcmlt * dst\n",
    "    b_loc_mlt = a_blcmlt + b_blcmlt * dst\n",
    "    # malt\n",
    "    a_loc_mlat = a_alclat + b_alclat * dst\n",
    "    b_loc_mlat = a_blclat + b_blclat * dst\n",
    "    # func\n",
    "    loc = ( a_loc_mlt + b_loc_mlt*(mlt) ) * ( a_loc_mlat*numpy.exp(b_loc_mlat*mlat) )\n",
    "    return loc\n",
    "\n",
    "def saps_velMagn_mean_pred_func( scale, shape, loc ):\n",
    "    \n",
    "    meanNormVel = scipy.stats.skewnorm.mean( shape, loc=loc, scale=scale )\n",
    "    meanVel = meanNormVel * max( modelVelScale )\n",
    "    return meanVel"
   ]
  },
  {
   "cell_type": "code",
   "execution_count": 6,
   "metadata": {
    "collapsed": false
   },
   "outputs": [
    {
     "data": {
      "text/html": [
       "<div>\n",
       "<table border=\"1\" class=\"dataframe\">\n",
       "  <thead>\n",
       "    <tr style=\"text-align: right;\">\n",
       "      <th></th>\n",
       "      <th>normMLT</th>\n",
       "      <th>normLAT</th>\n",
       "      <th>prob_pred</th>\n",
       "      <th>MLT</th>\n",
       "      <th>MLAT</th>\n",
       "      <th>dst_index</th>\n",
       "      <th>shape_pred</th>\n",
       "      <th>scale_pred</th>\n",
       "      <th>loc_pred</th>\n",
       "      <th>mean_vel_pred</th>\n",
       "      <th>azim_pred</th>\n",
       "    </tr>\n",
       "  </thead>\n",
       "  <tbody>\n",
       "    <tr>\n",
       "      <th>0</th>\n",
       "      <td>-1</td>\n",
       "      <td>-1.5</td>\n",
       "      <td>0.26</td>\n",
       "      <td>23</td>\n",
       "      <td>56.0</td>\n",
       "      <td>-33.0</td>\n",
       "      <td>34.832710</td>\n",
       "      <td>0.170730</td>\n",
       "      <td>0.102963</td>\n",
       "      <td>478.26</td>\n",
       "      <td>-10.92</td>\n",
       "    </tr>\n",
       "    <tr>\n",
       "      <th>1</th>\n",
       "      <td>0</td>\n",
       "      <td>-1.5</td>\n",
       "      <td>0.27</td>\n",
       "      <td>24</td>\n",
       "      <td>56.0</td>\n",
       "      <td>-33.0</td>\n",
       "      <td>36.397381</td>\n",
       "      <td>0.165637</td>\n",
       "      <td>0.099171</td>\n",
       "      <td>462.56</td>\n",
       "      <td>-10.30</td>\n",
       "    </tr>\n",
       "    <tr>\n",
       "      <th>2</th>\n",
       "      <td>1</td>\n",
       "      <td>-1.5</td>\n",
       "      <td>0.21</td>\n",
       "      <td>1</td>\n",
       "      <td>56.0</td>\n",
       "      <td>-33.0</td>\n",
       "      <td>37.962052</td>\n",
       "      <td>0.161072</td>\n",
       "      <td>0.095379</td>\n",
       "      <td>447.70</td>\n",
       "      <td>-9.67</td>\n",
       "    </tr>\n",
       "    <tr>\n",
       "      <th>3</th>\n",
       "      <td>-2</td>\n",
       "      <td>-1.0</td>\n",
       "      <td>0.29</td>\n",
       "      <td>22</td>\n",
       "      <td>56.5</td>\n",
       "      <td>-33.0</td>\n",
       "      <td>30.823801</td>\n",
       "      <td>0.180616</td>\n",
       "      <td>0.111012</td>\n",
       "      <td>510.09</td>\n",
       "      <td>-11.55</td>\n",
       "    </tr>\n",
       "    <tr>\n",
       "      <th>4</th>\n",
       "      <td>-1</td>\n",
       "      <td>-1.0</td>\n",
       "      <td>0.36</td>\n",
       "      <td>23</td>\n",
       "      <td>56.5</td>\n",
       "      <td>-33.0</td>\n",
       "      <td>32.273514</td>\n",
       "      <td>0.174859</td>\n",
       "      <td>0.107068</td>\n",
       "      <td>493.04</td>\n",
       "      <td>-10.92</td>\n",
       "    </tr>\n",
       "  </tbody>\n",
       "</table>\n",
       "</div>"
      ],
      "text/plain": [
       "   normMLT  normLAT  prob_pred  MLT  MLAT  dst_index  shape_pred  scale_pred  \\\n",
       "0       -1     -1.5       0.26   23  56.0      -33.0   34.832710    0.170730   \n",
       "1        0     -1.5       0.27   24  56.0      -33.0   36.397381    0.165637   \n",
       "2        1     -1.5       0.21    1  56.0      -33.0   37.962052    0.161072   \n",
       "3       -2     -1.0       0.29   22  56.5      -33.0   30.823801    0.180616   \n",
       "4       -1     -1.0       0.36   23  56.5      -33.0   32.273514    0.174859   \n",
       "\n",
       "   loc_pred  mean_vel_pred  azim_pred  \n",
       "0  0.102963         478.26     -10.92  \n",
       "1  0.099171         462.56     -10.30  \n",
       "2  0.095379         447.70      -9.67  \n",
       "3  0.111012         510.09     -11.55  \n",
       "4  0.107068         493.04     -10.92  "
      ]
     },
     "execution_count": 6,
     "metadata": {},
     "output_type": "execute_result"
    }
   ],
   "source": [
    "colList = [\"normMLT\", \"normLAT\", \"prob_pred\",\\\n",
    "           \"MLT\", \"MLAT\", \"dst_index\", \"shape_pred\",\\\n",
    "           \"scale_pred\", \"loc_pred\", \"mean_vel_pred\", \"azim_pred\"]\n",
    "sapsPredDF = pandas.DataFrame(columns=colList)\n",
    "latArr = []\n",
    "mltArr = []\n",
    "normLatArr = []\n",
    "normMltArr = []\n",
    "dstValArr = []\n",
    "dstBinArr = []\n",
    "\n",
    "\n",
    "for x in numpy.arange(50., 65., 0.5):\n",
    "    for y in range(-11,5):\n",
    "        currNormLat =  x - 57.5\n",
    "        normLatArr.append( currNormLat )\n",
    "        normMltArr.append( y )\n",
    "        if y > 0:\n",
    "            mltArr.append( y )\n",
    "        else:\n",
    "            mltArr.append( y + 24 )\n",
    "        latArr.append( x )\n",
    "        dstValArr.append(dstVal)\n",
    "        \n",
    "sapsPredDF[\"MLT\"] = mltArr\n",
    "sapsPredDF[\"MLAT\"] = latArr\n",
    "sapsPredDF[\"normMLT\"] = normMltArr\n",
    "sapsPredDF[\"normLAT\"] = normLatArr\n",
    "sapsPredDF[\"dst_index\"] = dstValArr\n",
    "\n",
    "\n",
    "\n",
    "# Now calculate the prob of occ!!\n",
    "sapsPredDF[\"prob_pred\"] = saps_prob_pred_func( sapsPredDF[\"MLAT\"],\\\n",
    "                                sapsPredDF[\"normMLT\"], sapsPredDF[\"dst_index\"] )\n",
    "# Only keep those values whose Dst is gt 0.2\n",
    "sapsPredDF = sapsPredDF[ sapsPredDF[\"prob_pred\"] > 0.2 ].reset_index(drop=True)\n",
    "\n",
    "# Now calculate the vel azim\n",
    "sapsPredDF[\"azim_pred\"] = saps_velAzim_pred_func( sapsPredDF[\"normMLT\"], sapsPredDF[\"dst_index\"] )\n",
    "\n",
    "\n",
    "# Calculate vel mean magn now!\n",
    "# We'll calculate scale, loc and shape\n",
    "# Scale\n",
    "sapsPredDF[\"scale_pred\"] = saps_vm_scale_pred_func( sapsPredDF[\"normMLT\"],\\\n",
    "                                        sapsPredDF[\"MLAT\"], sapsPredDF[\"dst_index\"] )\n",
    "# loc\n",
    "sapsPredDF[\"shape_pred\"] = saps_vm_shape_pred_func( sapsPredDF[\"normMLT\"],\\\n",
    "                                        sapsPredDF[\"MLAT\"], sapsPredDF[\"dst_index\"] )\n",
    "# Shape\n",
    "sapsPredDF[\"loc_pred\"] = saps_vm_loc_pred_func( sapsPredDF[\"normMLT\"],\\\n",
    "                                        sapsPredDF[\"MLAT\"], sapsPredDF[\"dst_index\"] )\n",
    "# Finally get to the velocities\n",
    "sapsPredDF[\"mean_vel_pred\"] = saps_velMagn_mean_pred_func( sapsPredDF[\"scale_pred\"],\\\n",
    "                                        sapsPredDF[\"shape_pred\"], sapsPredDF[\"loc_pred\"] )\n",
    "# Round off all values to 2 decimal places!\n",
    "sapsPredDF[\"prob_pred\"] = sapsPredDF[\"prob_pred\"].round(decimals=2)\n",
    "sapsPredDF[\"mean_vel_pred\"] = sapsPredDF[\"mean_vel_pred\"].round(decimals=2)\n",
    "sapsPredDF[\"azim_pred\"] = sapsPredDF[\"azim_pred\"].round(decimals=2)\n",
    "# sapsPredDF.round\n",
    "# Consider only those velocities whose magn are greater than 100 m/s\n",
    "# The shape pred should always be positive\n",
    "sapsPredDF = sapsPredDF[ sapsPredDF[\"shape_pred\"] > 0.].reset_index(drop=True)\n",
    "# sapsPredDF = sapsPredDF[ sapsPredDF[\"mean_vel_pred\"] > 100.].reset_index(drop=True)\n",
    "sapsPredDF.head()"
   ]
  },
  {
   "cell_type": "code",
   "execution_count": 7,
   "metadata": {
    "collapsed": false
   },
   "outputs": [
    {
     "name": "stdout",
     "output_type": "stream",
     "text": [
      "saved to--> ../data/full-model-sample-dst-33.txt\n"
     ]
    }
   ],
   "source": [
    "# Write the DF to a csv for plotting purposes\n",
    "outCols = [\"MLT\", \"MLAT\", \"prob_pred\", \"dst_index\", \"mean_vel_pred\", \"azim_pred\"]\n",
    "outFileName = \"../data/full-model-sample-dst\" + str(int(dstVal)) + \".txt\"\n",
    "sapsPredDF.to_csv(outFileName, columns = outCols, sep=' ', index=False, header=None)\n",
    "print \"saved to-->\", outFileName"
   ]
  },
  {
   "cell_type": "code",
   "execution_count": 8,
   "metadata": {
    "collapsed": false
   },
   "outputs": [
    {
     "name": "stdout",
     "output_type": "stream",
     "text": [
      "Empty DataFrame\n",
      "Columns: [normMLT, normLAT, prob_pred, MLT, MLAT, dst_index, shape_pred, scale_pred, loc_pred, mean_vel_pred, azim_pred]\n",
      "Index: []\n"
     ]
    }
   ],
   "source": [
    "print sapsPredDF[ (sapsPredDF[\"shape_pred\"] < 0) ]"
   ]
  },
  {
   "cell_type": "code",
   "execution_count": 9,
   "metadata": {
    "collapsed": false
   },
   "outputs": [
    {
     "name": "stdout",
     "output_type": "stream",
     "text": [
      "    normMLT  normLAT  prob_pred  MLT  MLAT  dst_index  shape_pred  scale_pred  \\\n",
      "12       -4      0.0       0.20   20  57.5      -33.0   23.495731    0.202904   \n",
      "18       -4      0.5       0.28   20  58.0      -33.0   21.281409    0.207479   \n",
      "24       -4      1.0       0.37   20  58.5      -33.0   19.067086    0.212054   \n",
      "31       -4      1.5       0.47   20  59.0      -33.0   16.852764    0.216629   \n",
      "38       -4      2.0       0.56   20  59.5      -33.0   14.638442    0.221204   \n",
      "45       -4      2.5       0.64   20  60.0      -33.0   12.424120    0.225779   \n",
      "52       -4      3.0       0.69   20  60.5      -33.0   10.209797    0.230354   \n",
      "60       -4      3.5       0.71   20  61.0      -33.0    7.995475    0.234929   \n",
      "67       -4      4.0       0.69   20  61.5      -33.0    5.781153    0.239504   \n",
      "74       -4      4.5       0.63   20  62.0      -33.0    3.566831    0.244079   \n",
      "80       -4      5.0       0.55   20  62.5      -33.0    1.352508    0.248654   \n",
      "\n",
      "    loc_pred  mean_vel_pred  azim_pred  \n",
      "12  0.128569         580.63      -12.8  \n",
      "18  0.133695         598.11      -12.8  \n",
      "24  0.139025         615.97      -12.8  \n",
      "31  0.144568         634.22      -12.8  \n",
      "38  0.150332         652.83      -12.8  \n",
      "45  0.156325         671.78      -12.8  \n",
      "52  0.162558         690.96      -12.8  \n",
      "60  0.169039         710.07      -12.8  \n",
      "67  0.175778         728.16      -12.8  \n",
      "74  0.182786         740.60      -12.8  \n",
      "80  0.190073         699.20      -12.8  \n"
     ]
    }
   ],
   "source": [
    "print sapsPredDF[ (sapsPredDF[\"normMLT\"] == -4) ]"
   ]
  },
  {
   "cell_type": "code",
   "execution_count": null,
   "metadata": {
    "collapsed": true
   },
   "outputs": [],
   "source": []
  }
 ],
 "metadata": {
  "kernelspec": {
   "display_name": "Python 2",
   "language": "python",
   "name": "python2"
  },
  "language_info": {
   "codemirror_mode": {
    "name": "ipython",
    "version": 2
   },
   "file_extension": ".py",
   "mimetype": "text/x-python",
   "name": "python",
   "nbconvert_exporter": "python",
   "pygments_lexer": "ipython2",
   "version": "2.7.6"
  }
 },
 "nbformat": 4,
 "nbformat_minor": 1
}

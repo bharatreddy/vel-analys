{
 "cells": [
  {
   "cell_type": "code",
   "execution_count": 1,
   "metadata": {
    "collapsed": false
   },
   "outputs": [],
   "source": [
    "import pandas\n",
    "import datetime\n",
    "import numpy\n",
    "from sklearn import linear_model\n",
    "import scipy.stats as stats\n",
    "import seaborn as sns\n",
    "import matplotlib.pyplot as plt\n",
    "%matplotlib inline\n",
    "from matplotlib.colors import ListedColormap\n",
    "from matplotlib.colors import Normalize\n",
    "from matplotlib import ticker\n",
    "from matplotlib import rcParams"
   ]
  },
  {
   "cell_type": "code",
   "execution_count": 2,
   "metadata": {
    "collapsed": true
   },
   "outputs": [],
   "source": [
    "# setup some cutoff values we'll use in the analysis\n",
    "velCutoffUpper = 2000.\n",
    "velCutoffLower = 0.\n",
    "numPointsCutoffMLTMLAT = 250\n",
    "mlatCutOffUpper = 70.\n",
    "probOccCutoff = 0.2"
   ]
  },
  {
   "cell_type": "code",
   "execution_count": null,
   "metadata": {
    "collapsed": false
   },
   "outputs": [
    {
     "data": {
      "text/plain": [
       "array(['(-10, 10]', '(-25, -10]', '(-50, -25]', '(-75, -50]', '(-150, -75]'], dtype=object)"
      ]
     },
     "execution_count": 3,
     "metadata": {},
     "output_type": "execute_result"
    }
   ],
   "source": [
    "velGmagDF = pandas.read_csv(\"../data/processed-vels-geomag.txt\", sep=' ')\n",
    "velGmagDF = velGmagDF.drop('Unnamed: 0', axis=1)\n",
    "# Discard unwanted values\n",
    "# We'll only consider those velocities \n",
    "# which lie between 0 and 2500 m/s\n",
    "# and located below 70 MLAT\n",
    "velGmagDF = velGmagDF[ (velGmagDF[\"vSaps\"] > velCutoffLower) \\\n",
    "                        & (velGmagDF[\"vSaps\"] < velCutoffUpper)\\\n",
    "                       ].reset_index(drop=True)\n",
    "velGmagDF = velGmagDF[ velGmagDF[\"MLAT\"] < mlatCutOffUpper ].reset_index(drop=True)\n",
    "# Now filter out velocities which have very few rate of occ.\n",
    "# We calculat the prob and remove every measurement below 0.2 prob of occ.\n",
    "mlatMLTDstCountDF = velGmagDF.groupby( [\"MLAT\", \"normMLT\", \"dst_bin\"] )[\"vSaps\"].count().reset_index()\n",
    "mlatMLTDstCountDF.columns = [ \"MLAT\", \"normMLT\", \"dst_bin\", \"count\" ]\n",
    "dstMaxCntDF = mlatMLTDstCountDF.groupby( [\"dst_bin\"] )[\"count\"].max().reset_index()\n",
    "dstMaxCntDF.columns = [ \"dst_bin\", \"maxCntDst\" ]\n",
    "mlatMLTDstCountDF = pandas.merge( mlatMLTDstCountDF, dstMaxCntDF, on=[ \"dst_bin\" ] )\n",
    "mlatMLTDstCountDF[\"probOcc\"] = mlatMLTDstCountDF[\"count\"]/mlatMLTDstCountDF[\"maxCntDst\"]\n",
    "mlatMLTDstCountDF = mlatMLTDstCountDF[ mlatMLTDstCountDF[\"probOcc\"] > probOccCutoff ].reset_index(drop=True)\n",
    "# Filter out MLATs and MLTs (at the Dst bins)\n",
    "# where number of measurements is low. We do\n",
    "# this by merging the mlatMLTDstCountDF with velDF.\n",
    "velGmagDF = pandas.merge( velGmagDF,\\\n",
    "                         mlatMLTDstCountDF,\\\n",
    "                         on=[ \"MLAT\", \"normMLT\", \"dst_bin\" ] )\n",
    "velGmagDF = velGmagDF[ [ \"normMLT\", \"MLAT\", \"vSaps\",\\\n",
    "                        \"azim\", \"dst_bin\", \"dst_index\", \"count\", \"maxCntDst\" ] ]\n",
    "# Divide the velocities into bins\n",
    "velBins = [ v for v in range(0,int(velCutoffUpper)+100,100) ]\n",
    "velGmagDF = pandas.concat( [ velGmagDF, \\\n",
    "                    pandas.cut( velGmagDF[\"vSaps\"], \\\n",
    "                               bins=velBins ) ], axis=1 )\n",
    "velGmagDF.columns = [ \"normMLT\", \"MLAT\", \"vSaps\",\\\n",
    "                        \"azim\", \"dst_bin\", \"dst_index\", \"count\",\\\n",
    "                         \"maxCntDst\", \"vel_bin\" ]\n",
    "# velGmagDF.head()\n",
    "# Get a DF with mean Dst in each bin\n",
    "dstMeanDF = velGmagDF.groupby( [\"dst_bin\"] ).mean()[\"dst_index\"].astype(int).reset_index()\n",
    "dstMeanDF.columns = [ \"dst_bin\", \"dst_mean\" ]\n",
    "velGmagDF = pandas.merge( velGmagDF, dstMeanDF, on=[\"dst_bin\"] )\n",
    "velGmagDF = velGmagDF.sort( [\"dst_mean\"], ascending=False ).reset_index(drop=True)\n",
    "maxSapsVel = numpy.ceil( velGmagDF[\"vSaps\"].max()/1000 ) * 1000.\n",
    "velGmagDF[\"norm_vels\"] = velGmagDF[\"vSaps\"]/maxSapsVel\n",
    "# velGmagDF.head()\n",
    "velGmagDF[\"dst_bin\"].unique()"
   ]
  },
  {
   "cell_type": "code",
   "execution_count": null,
   "metadata": {
    "collapsed": false
   },
   "outputs": [],
   "source": [
    "# Now fir a skewed normal distribution for the velocities\n",
    "# at every MLT, MLAT and dst_bin! Store the results in a DF\n",
    "fitShapeArr = []\n",
    "fitLocArr = []\n",
    "fitScaleArr = []\n",
    "normMLTArr = []\n",
    "mlatArr = []\n",
    "dstBinArr = []\n",
    "dstMeanArr = []\n",
    "uniqMLTs = velGmagDF[\"normMLT\"].unique().tolist()\n",
    "uniqMLATs = velGmagDF[\"MLAT\"].unique().tolist()\n",
    "uniqDstBins = velGmagDF[\"dst_bin\"].unique().tolist()\n",
    "for currMlt in uniqMLTs:\n",
    "    for currMlat in uniqMLATs:\n",
    "        for currDstBin in uniqDstBins:\n",
    "            subDF = velGmagDF[ (velGmagDF[\"normMLT\"] == currMlt) & \\\n",
    "                  (velGmagDF[\"dst_bin\"] == currDstBin) & \\\n",
    "                  (velGmagDF[\"MLAT\"] == currMlat) ]\n",
    "            # If we have values in this DF fit a skewnorm distribution\n",
    "            if subDF.shape[0] > 0:\n",
    "                shape, loc, scale = stats.skewnorm.fit(subDF[\"norm_vels\"], loc=0, scale=1)\n",
    "                fitShapeArr.append( shape )\n",
    "                fitLocArr.append( loc )\n",
    "                fitScaleArr.append( scale )\n",
    "                normMLTArr.append( currMlt )\n",
    "                mlatArr.append( currMlat )\n",
    "                dstBinArr.append( currDstBin )\n",
    "                dstMeanArr.append( velGmagDF[velGmagDF[\"dst_bin\"] == currDstBin][\"dst_mean\"].tolist()[0] )\n",
    "# convert the data to a dataframe\n",
    "fitDF = pandas.DataFrame(\n",
    "    {'shape': fitShapeArr,\n",
    "     'loc': fitLocArr,\n",
    "     'scale': fitScaleArr,\n",
    "     'norm_mlt': normMLTArr,\n",
    "     'mlat': mlatArr,\n",
    "     'dst_bin': dstBinArr,\n",
    "     'dst_mean': dstMeanArr,\n",
    "    })\n",
    "fitDF.head()\n",
    "# There are some extreme values in fitDF, take them out\n",
    "# Some values of shape go beyond 10^8\n",
    "fitDF = fitDF[ fitDF[\"shape\"] <= 500. ]\n",
    "# Save the fitting results to a DF so that we can use it later\n",
    "fitDF.to_csv( \"../data/fit-skewed-gaussian.txt\",\\\n",
    "                      sep=' ', index=False )"
   ]
  },
  {
   "cell_type": "code",
   "execution_count": null,
   "metadata": {
    "collapsed": false
   },
   "outputs": [],
   "source": [
    "# Make a few plots of the fitting to get an estimate of how things are!\n",
    "# Our velocities range from 0 to 2000 m/s\n",
    "velsArr = numpy.arange(0.,2100.,100.)#/2000.\n",
    "selMLAT = 59.5#59.#\n",
    "selNormMLT = -3.#-6.#\n",
    "selFitDF = fitDF[ (fitDF[\"norm_mlt\"] == selNormMLT) &\\\n",
    "                (fitDF[\"mlat\"] == selMLAT) ]\n",
    "selVelDF = velGmagDF[ (velGmagDF[\"normMLT\"] == selNormMLT) & \\\n",
    "                  (velGmagDF[\"MLAT\"] == selMLAT) ]\n",
    "# print selFitDF[\"dst_bin\"].unique()"
   ]
  },
  {
   "cell_type": "code",
   "execution_count": null,
   "metadata": {
    "collapsed": false
   },
   "outputs": [],
   "source": [
    "f = plt.figure(figsize=(12, 8))\n",
    "axArr = []\n",
    "axArr.append( f.add_subplot(2,2,1) )\n",
    "axArr.append( f.add_subplot(2,2,2) )\n",
    "axArr.append( f.add_subplot(2,2,3) ) \n",
    "axArr.append( f.add_subplot(2,2,4) )\n",
    "# axArr.append( f.add_subplot(3,2,5) )\n",
    "for ind, currDstBin in enumerate( selFitDF[\"dst_bin\"].unique() ):\n",
    "    shape = selFitDF[ selFitDF[\"dst_bin\"] == currDstBin ][\"shape\"].tolist()[0]\n",
    "    loc = selFitDF[ selFitDF[\"dst_bin\"] == currDstBin ][\"loc\"].tolist()[0]\n",
    "    scale = selFitDF[ selFitDF[\"dst_bin\"] == currDstBin ][\"scale\"].tolist()[0]\n",
    "    subVelDF = selVelDF[ selVelDF[\"dst_bin\"] == currDstBin ]\n",
    "    velScale = subVelDF[\"vSaps\"].value_counts(bins=velsArr[::2]).max()\n",
    "    velKernel = stats.gaussian_kde( subVelDF[\"vSaps\"], bw_method=\"scott\" )\n",
    "    kernel_adjusted = (velKernel.pdf( velsArr )/max(velKernel.pdf( velsArr ))) * velScale\n",
    "    pdf_fitted = stats.skewnorm.pdf(velsArr/2000., shape, loc, scale)\n",
    "    fitVals = pdf_fitted/max(pdf_fitted) * velScale\n",
    "    axArr[ind].plot(velsArr, kernel_adjusted, 'r-', lw=5, alpha=0.6)\n",
    "    axArr[ind].plot(velsArr, fitVals, 'b--', lw=5, alpha=0.6)\n",
    "    axArr[ind].set_xlabel(\"Velocities [m/s]\")\n",
    "    axArr[ind].set_ylabel(\"counts\")\n",
    "    printText = \"Lat : \" + str(selMLAT) +\\\n",
    "                \"\\n\" + \"MLT : \" + str(selNormMLT) +\\\n",
    "                \"\\n\" + \"Dst : \" + currDstBin\n",
    "    axArr[ind].text(0.7, 0.7,  printText,\n",
    "            transform=axArr[ind].transAxes,\n",
    "            color='green', fontsize=10)\n",
    "    subVelDF[\"vSaps\"].hist(ax=axArr[ind])\n",
    "plt.savefig(\"../figs/skewed-gaussian-fit-test.pdf\",bbox_inches='tight')"
   ]
  },
  {
   "cell_type": "code",
   "execution_count": null,
   "metadata": {
    "collapsed": false
   },
   "outputs": [],
   "source": [
    "# Seaborn styling\n",
    "sns.set_style(\"darkgrid\")\n",
    "sns.set_context(\"paper\")\n",
    "seaMap = ListedColormap(sns.color_palette(\"Reds\"))\n",
    "# Plot using matplotlib\n",
    "fig1 = plt.figure()\n",
    "ax = fig1.add_subplot(111)\n",
    "fitDF[ fitDF[\"dst_bin\"] == \"(-50, -25]\" ].plot(x=\"norm_mlt\", y=\"shape\", kind=\"scatter\", ax=ax)"
   ]
  },
  {
   "cell_type": "code",
   "execution_count": null,
   "metadata": {
    "collapsed": false
   },
   "outputs": [],
   "source": [
    "selParam = \"shape\"\n",
    "selDF = fitDF#[ (fitDF[\"dst_bin\"] == \"(-150, -75]\") ] # & (fitDF[\"norm_mlt\"] == -6.)\n",
    "selDF = selDF[ selDF[\"shape\"] < 2000.]\n",
    "sns.swarmplot( x=\"mlat\", y=selParam, hue=\"dst_mean\", data=selDF[ [\"mlat\", \"norm_mlt\", \"dst_bin\", \"dst_mean\" , selParam] ])"
   ]
  },
  {
   "cell_type": "code",
   "execution_count": null,
   "metadata": {
    "collapsed": false
   },
   "outputs": [],
   "source": [
    "f = plt.figure(figsize=(12, 8))\n",
    "ax = f.add_subplot(1,1,1)\n",
    "\n",
    "sns.set_style(\"darkgrid\")\n",
    "sns.set_context(\"paper\")\n",
    "seaMap = ListedColormap(sns.color_palette(\"Reds\"))\n",
    "\n",
    "fitDF[fitDF[\"shape\"] < 200.].plot( kind='scatter',\n",
    "              x='dst_mean',\n",
    "              y='norm_mlt',\n",
    "              c='scale',\n",
    "              s=50, cmap=seaMap,ax=ax)\n",
    "# ax.set_xlabel(\"MLT\", fontsize=14)\n",
    "# ax.set_ylabel(\"MLAT\", fontsize=14)"
   ]
  },
  {
   "cell_type": "code",
   "execution_count": null,
   "metadata": {
    "collapsed": false
   },
   "outputs": [],
   "source": [
    "# Fit a multivariate linear model to get estimates of scale, shape and loc\n",
    "model = linear_model.LinearRegression()\n",
    "scaleFit = linear_model.LinearRegression().fit(fitDF[ [\"dst_mean\", \"mlat\", \"norm_mlt\"] ], fitDF[\"scale\"])\n",
    "shapeFit = linear_model.LinearRegression().fit(fitDF[ [\"dst_mean\", \"mlat\", \"norm_mlt\"] ], fitDF[\"shape\"])\n",
    "locFit = linear_model.LinearRegression().fit(fitDF[ [\"dst_mean\", \"mlat\", \"norm_mlt\"] ], fitDF[\"loc\"])"
   ]
  },
  {
   "cell_type": "code",
   "execution_count": null,
   "metadata": {
    "collapsed": false
   },
   "outputs": [],
   "source": [
    "print \"scale fitting--->\", scaleFit.intercept_, scaleFit.coef_\n",
    "print \"shape fitting--->\", shapeFit.intercept_, shapeFit.coef_\n",
    "print \"loc fitting--->\", locFit.intercept_, locFit.coef_"
   ]
  },
  {
   "cell_type": "code",
   "execution_count": null,
   "metadata": {
    "collapsed": false
   },
   "outputs": [],
   "source": [
    "fitDF[\"pred_scale\"] = scaleFit.predict(fitDF[ [\"dst_mean\", \"mlat\", \"norm_mlt\"] ])\n",
    "fitDF[\"pred_shape\"] = shapeFit.predict(fitDF[ [\"dst_mean\", \"mlat\", \"norm_mlt\"] ])\n",
    "fitDF[\"pred_loc\"] = locFit.predict(fitDF[ [\"dst_mean\", \"mlat\", \"norm_mlt\"] ])"
   ]
  },
  {
   "cell_type": "code",
   "execution_count": null,
   "metadata": {
    "collapsed": false
   },
   "outputs": [],
   "source": [
    "f = plt.figure(figsize=(12, 8))\n",
    "ax1 = f.add_subplot(2,1,1)\n",
    "ax2 = f.add_subplot(2,1,2)\n",
    "\n",
    "selDF = fitDF[ (fitDF[\"dst_bin\"] == \"(-150, -75]\") ] # & (fitDF[\"norm_mlt\"] == -6.)\n",
    "selDF[\"pred_shape\"] = shapeFit.predict(selDF[ [\"dst_mean\", \"mlat\", \"norm_mlt\"] ])\n",
    "selDF.plot( kind='scatter',\n",
    "              x='mlat',\n",
    "              y='norm_mlt',\n",
    "              c='shape',\n",
    "              s=50, cmap=seaMap,ax=ax1)\n",
    "selDF.plot( kind='scatter',\n",
    "              x='mlat',\n",
    "              y='norm_mlt',\n",
    "              c='pred_shape',\n",
    "              s=50, cmap=seaMap,ax=ax2)"
   ]
  },
  {
   "cell_type": "code",
   "execution_count": null,
   "metadata": {
    "collapsed": false
   },
   "outputs": [],
   "source": [
    "# Make a few plots of the fitting to get an estimate of how things are!\n",
    "# Our velocities range from 0 to 2000 m/s\n",
    "velsArr = numpy.arange(0.,2100.,100.)\n",
    "selMLAT = 59.#59.#\n",
    "selNormMLT = -3.#-6.#\n",
    "selFitDF = fitDF[ (fitDF[\"norm_mlt\"] == selNormMLT) &\\\n",
    "                (fitDF[\"mlat\"] == selMLAT) ]\n",
    "selVelDF = velGmagDF[ (velGmagDF[\"normMLT\"] == selNormMLT) & \\\n",
    "                  (velGmagDF[\"MLAT\"] == selMLAT) ]\n",
    "\n",
    "f = plt.figure(figsize=(12, 8))\n",
    "axArr = []\n",
    "axArr.append( f.add_subplot(3,2,1) )\n",
    "axArr.append( f.add_subplot(3,2,2) )\n",
    "axArr.append( f.add_subplot(3,2,3) ) \n",
    "axArr.append( f.add_subplot(3,2,4) )\n",
    "axArr.append( f.add_subplot(3,2,5) )\n",
    "for ind, currDstBin in enumerate( selFitDF[\"dst_bin\"].unique() ):\n",
    "    shape = selFitDF[ selFitDF[\"dst_bin\"] == currDstBin ][\"pred_shape\"].tolist()[0]\n",
    "    loc = selFitDF[ selFitDF[\"dst_bin\"] == currDstBin ][\"pred_loc\"].tolist()[0]\n",
    "    scale = selFitDF[ selFitDF[\"dst_bin\"] == currDstBin ][\"pred_scale\"].tolist()[0]\n",
    "    subVelDF = selVelDF[ selVelDF[\"dst_bin\"] == currDstBin ]\n",
    "    velScale = subVelDF[\"vSaps\"].value_counts(bins=velsArr[::2]).max()\n",
    "    pdf_fitted = stats.skewnorm.pdf(velsArr, shape, loc, scale)\n",
    "    fitVals = pdf_fitted/max(pdf_fitted) * velScale\n",
    "    axArr[ind].plot(velsArr, fitVals, 'r-', lw=5, alpha=0.6)\n",
    "    axArr[ind].set_xlabel(\"Velocities [m/s]\")\n",
    "    axArr[ind].set_ylabel(\"counts\")\n",
    "    printText = \"Lat : \" + str(selMLAT) +\\\n",
    "                \"\\n\" + \"MLT : \" + str(selNormMLT) +\\\n",
    "                \"\\n\" + \"Dst : \" + currDstBin\n",
    "    axArr[ind].text(0.7, 0.7,  printText,\n",
    "            transform=axArr[ind].transAxes,\n",
    "            color='green', fontsize=10)\n",
    "    subVelDF[\"vSaps\"].hist(ax=axArr[ind])\n",
    "# plt.savefig(\"../figs/skewed-gaussian-fit-test.pdf\",bbox_inches='tight')"
   ]
  },
  {
   "cell_type": "code",
   "execution_count": null,
   "metadata": {
    "collapsed": true
   },
   "outputs": [],
   "source": []
  }
 ],
 "metadata": {
  "kernelspec": {
   "display_name": "Python 2",
   "language": "python",
   "name": "python2"
  },
  "language_info": {
   "codemirror_mode": {
    "name": "ipython",
    "version": 2
   },
   "file_extension": ".py",
   "mimetype": "text/x-python",
   "name": "python",
   "nbconvert_exporter": "python",
   "pygments_lexer": "ipython2",
   "version": "2.7.9"
  }
 },
 "nbformat": 4,
 "nbformat_minor": 1
}

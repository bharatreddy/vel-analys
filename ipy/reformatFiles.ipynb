{
 "cells": [
  {
   "cell_type": "code",
   "execution_count": 1,
   "metadata": {
    "collapsed": true
   },
   "outputs": [],
   "source": [
    "import os"
   ]
  },
  {
   "cell_type": "code",
   "execution_count": null,
   "metadata": {
    "collapsed": false
   },
   "outputs": [],
   "source": [
    "# In this ipython notebook, we'll reformat the velocity files!!\n",
    "inpDir = \"/home/bharat/Documents/code/veldata/\"\n",
    "outDir = \"/home/bharat/Documents/code/frmtd-vels/\"\n",
    "# Loop through the base directory and sub directories\n",
    "# and get a list of ephemeris files that we need!\n",
    "# fileList = []\n",
    "# for root, dirs, files in os.walk(inpDir):\n",
    "#     for fName in files:\n",
    "#         currFile = root + fName\n",
    "#         outFormattedFile = outDir + \"frmtd-\" + fName\n",
    "#         os.system( 'cat ' + currFile + ' | tr -s \"  \" > ' + outFormattedFile )        "
   ]
  },
  {
   "cell_type": "code",
   "execution_count": null,
   "metadata": {
    "collapsed": false
   },
   "outputs": [],
   "source": [
    "# Now we need to put on some additional formatting to take out\n",
    "# some of the lines that are malformatted!!!\n",
    "testFileInp = \"/home/bharat/Documents/code/frmtd-vels/frmtd-saps-vels-20120618.txt\"\n",
    "testFileOut = \"/home/bharat/Documents/code/frmtd-vels/new-saps-vels-20120618.txt\"\n",
    "cntErr = 0\n",
    "lineList = []\n",
    "with open(testFileInp) as f:\n",
    "    lines = f.readlines()\n",
    "    for line in lines:\n",
    "        words = line.split(\" \")\n",
    "        if  ( len(words) != 11 ) :\n",
    "            cntErr += 1\n",
    "            newWordList = []\n",
    "            for w in words:\n",
    "                currWord = w.split(\"-\")\n",
    "                if ( (len( currWord ) > 1 ) & (currWord[0] != \"\") ):\n",
    "                    newWordList.append( currWord[0] )\n",
    "                    newWordList.append( \"-\" + currWord[1] )\n",
    "                else:\n",
    "                    if currWord[0] != \"\":\n",
    "                        newWordList.append( currWord[0] )\n",
    "                    else:\n",
    "                        for nc, j in enumerate(currWord):\n",
    "                            if nc > 0:\n",
    "                                newWordList.append( \"-\" + j )\n",
    "            editedLine = \" \".join(newWordList)\n",
    "            lineList.append( editedLine )\n",
    "        else:\n",
    "            lineList.append( line )\n",
    "            \n",
    "f.close()\n",
    "            \n",
    "# with open(testFileOut) as f:\n",
    "#     for nLine in lineList:\n",
    "#         f.write( nLine )\n",
    "        \n",
    "fo = open(testFileOut, \"w+\")\n",
    "fo.writelines( lineList )\n",
    "fo.close()\n",
    "            \n",
    "print \"cntErr--->\", cntErr"
   ]
  },
  {
   "cell_type": "code",
   "execution_count": 4,
   "metadata": {
    "collapsed": false
   },
   "outputs": [],
   "source": [
    "baseDir = \"/home/bharat/Documents/code/frmtd-vels/\"\n",
    "# Loop through the directory and get all files\n",
    "for root, dirs, files in os.walk(baseDir):\n",
    "    for fName in files:\n",
    "        print \"currently working with-->\", root + fName\n",
    "        cntErr = 0\n",
    "        lineList = []\n",
    "        with open(root + fName) as f:\n",
    "            lines = f.readlines()\n",
    "            for line in lines:\n",
    "                words = line.split(\" \")\n",
    "                if  ( len(words) != 11 ) :\n",
    "                    cntErr += 1\n",
    "                    newWordList = []\n",
    "                    for w in words:\n",
    "                        currWord = w.split(\"-\")\n",
    "                        if ( (len( currWord ) > 1 ) & (currWord[0] != \"\") ):\n",
    "                            newWordList.append( currWord[0] )\n",
    "                            newWordList.append( \"-\" + currWord[1] )\n",
    "                        else:\n",
    "                            if currWord[0] != \"\":\n",
    "                                newWordList.append( currWord[0] )\n",
    "                            else:\n",
    "                                for nc, j in enumerate(currWord):\n",
    "                                    if nc > 0:\n",
    "                                        newWordList.append( \"-\" + j )\n",
    "                    editedLine = \" \".join(newWordList)\n",
    "                    lineList.append( editedLine )\n",
    "                else:\n",
    "                    lineList.append( line )\n",
    "        f.close()\n",
    "        newFileOut = root+fName+\".tmp\"\n",
    "        fo = open(newFileOut, \"w+\")\n",
    "        fo.writelines( lineList )\n",
    "        fo.close()\n",
    "        # Now move the temp file to the formatted one!\n",
    "        os.rename( newFileOut, root+fName )"
   ]
  },
  {
   "cell_type": "code",
   "execution_count": 2,
   "metadata": {
    "collapsed": false
   },
   "outputs": [],
   "source": [
    "fNameInp = \"/Users/bharat/Documents/code/vap-analys/data/event-saps-vels-20130622.txt\"\n",
    "# newFileOut = \"/Users/bharat/Documents/code/vap-analys/data/full-event-vels-20130622.txt\"\n",
    "cntErr = 0\n",
    "lineList = []\n",
    "with open(fNameInp) as f:\n",
    "    lines = f.readlines()\n",
    "    for line in lines:\n",
    "        words = line.split(\" \")\n",
    "        if  ( len(words) != 11 ) :\n",
    "            cntErr += 1\n",
    "            newWordList = []\n",
    "            for w in words:\n",
    "                currWord = w.split(\"-\")\n",
    "                if ( (len( currWord ) > 1 ) & (currWord[0] != \"\") ):\n",
    "                    newWordList.append( currWord[0] )\n",
    "                    newWordList.append( \"-\" + currWord[1] )\n",
    "                else:\n",
    "                    if currWord[0] != \"\":\n",
    "                        newWordList.append( currWord[0] )\n",
    "                    else:\n",
    "                        for nc, j in enumerate(currWord):\n",
    "                            if nc > 0:\n",
    "                                newWordList.append( \"-\" + j )\n",
    "            editedLine = \" \".join(newWordList)\n",
    "            lineList.append( editedLine )\n",
    "        else:\n",
    "            lineList.append( line )\n",
    "f.close()\n",
    "newFileOut = fNameInp+\".tmp\"\n",
    "fo = open(newFileOut, \"w+\")\n",
    "fo.writelines( lineList )\n",
    "fo.close()\n",
    "# Now move the temp file to the formatted one!\n",
    "os.rename( newFileOut, fNameInp )"
   ]
  },
  {
   "cell_type": "code",
   "execution_count": null,
   "metadata": {
    "collapsed": true
   },
   "outputs": [],
   "source": []
  }
 ],
 "metadata": {
  "kernelspec": {
   "display_name": "Python 2",
   "language": "python",
   "name": "python2"
  },
  "language_info": {
   "codemirror_mode": {
    "name": "ipython",
    "version": 2
   },
   "file_extension": ".py",
   "mimetype": "text/x-python",
   "name": "python",
   "nbconvert_exporter": "python",
   "pygments_lexer": "ipython2",
   "version": "2.7.9"
  }
 },
 "nbformat": 4,
 "nbformat_minor": 1
}

{
 "cells": [
  {
   "cell_type": "code",
   "execution_count": 3,
   "metadata": {
    "collapsed": true
   },
   "outputs": [],
   "source": [
    "import pandas\n",
    "import datetime\n",
    "import os"
   ]
  },
  {
   "cell_type": "code",
   "execution_count": 12,
   "metadata": {
    "collapsed": false
   },
   "outputs": [
    {
     "name": "stdout",
     "output_type": "stream",
     "text": [
      "currently working with--> ../data/ae_2011.txt\n",
      "   AEALAOAU  110101U00AU  PRVAE/E02  23  24  23.1  23.2  24.1  23.3  22  \\\n",
      "0  AEALAOAU  110101U01AU  PRVAE/E02  25  23    28    34    35    33  30   \n",
      "1  AEALAOAU  110101U02AU  PRVAE/E02  18  18    16    16    19    20  18   \n",
      "2  AEALAOAU  110101U03AU  PRVAE/E02  23  26    28    29    30    30  31   \n",
      "3  AEALAOAU  110101U04AU  PRVAE/E02  19  19    18    18    19    19  21   \n",
      "4  AEALAOAU  110101U05AU  PRVAE/E02  36  36    37    37    37    37  36   \n",
      "\n",
      "   ...    25.3  25.4  26.14  31.1  35  35.1  34.1  34.2  32.2  27.10  \n",
      "0  ...      21    24     24    24  24    23    21    18    17     32  \n",
      "1  ...      19    16     14    14  14    15    17    19    21     20  \n",
      "2  ...      15    17     18    20  19    17    16    16    18     33  \n",
      "3  ...      36    37     37    36  34    35    36    37    36     30  \n",
      "4  ...      23    26     26    25  26    27    31    32    33     29  \n",
      "\n",
      "[5 rows x 64 columns]\n"
     ]
    }
   ],
   "source": [
    "baseDir = \"../data/\"\n",
    "# Loop through the directory and get all files\n",
    "for root, dirs, files in os.walk(baseDir):\n",
    "    for fName in files:\n",
    "        if \"ae\" not in fName:\n",
    "            continue\n",
    "        print \"currently working with-->\", root + fName\n",
    "        currAurDF = pandas.read_csv( root + fName, delim_whitespace=True )\n",
    "        \n",
    "        print currAurDF.head()\n",
    "        break"
   ]
  },
  {
   "cell_type": "code",
   "execution_count": null,
   "metadata": {
    "collapsed": true
   },
   "outputs": [],
   "source": []
  }
 ],
 "metadata": {
  "kernelspec": {
   "display_name": "Python 2",
   "language": "python",
   "name": "python2"
  },
  "language_info": {
   "codemirror_mode": {
    "name": "ipython",
    "version": 2
   },
   "file_extension": ".py",
   "mimetype": "text/x-python",
   "name": "python",
   "nbconvert_exporter": "python",
   "pygments_lexer": "ipython2",
   "version": "2.7.9"
  }
 },
 "nbformat": 4,
 "nbformat_minor": 1
}

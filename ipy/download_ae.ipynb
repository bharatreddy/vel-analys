{
 "cells": [
  {
   "cell_type": "code",
   "execution_count": 1,
   "metadata": {
    "collapsed": true
   },
   "outputs": [],
   "source": [
    "import pandas\n",
    "import datetime\n",
    "import os"
   ]
  },
  {
   "cell_type": "code",
   "execution_count": 2,
   "metadata": {
    "collapsed": false
   },
   "outputs": [
    {
     "name": "stdout",
     "output_type": "stream",
     "text": [
      "currently working with--> ../data/ae_2011.txt\n",
      "currently working with--> ../data/ae_2012.txt\n",
      "currently working with--> ../data/ae_2013.txt\n",
      "currently working with--> ../data/ae_2014.txt\n"
     ]
    },
    {
     "data": {
      "text/html": [
       "<div style=\"max-height:1000px;max-width:1500px;overflow:auto;\">\n",
       "<table border=\"1\" class=\"dataframe\">\n",
       "  <thead>\n",
       "    <tr style=\"text-align: right;\">\n",
       "      <th>aur_type</th>\n",
       "      <th>AE</th>\n",
       "      <th>AL</th>\n",
       "      <th>AO</th>\n",
       "      <th>AU</th>\n",
       "    </tr>\n",
       "    <tr>\n",
       "      <th>datetimeStr</th>\n",
       "      <th></th>\n",
       "      <th></th>\n",
       "      <th></th>\n",
       "      <th></th>\n",
       "    </tr>\n",
       "  </thead>\n",
       "  <tbody>\n",
       "    <tr>\n",
       "      <th>20110101-00-00</th>\n",
       "      <td> 31</td>\n",
       "      <td>-8</td>\n",
       "      <td> 8</td>\n",
       "      <td> 23</td>\n",
       "    </tr>\n",
       "    <tr>\n",
       "      <th>20110101-00-01</th>\n",
       "      <td> 32</td>\n",
       "      <td>-8</td>\n",
       "      <td> 8</td>\n",
       "      <td> 24</td>\n",
       "    </tr>\n",
       "    <tr>\n",
       "      <th>20110101-00-02</th>\n",
       "      <td> 31</td>\n",
       "      <td>-8</td>\n",
       "      <td> 8</td>\n",
       "      <td> 23</td>\n",
       "    </tr>\n",
       "    <tr>\n",
       "      <th>20110101-00-03</th>\n",
       "      <td> 31</td>\n",
       "      <td>-8</td>\n",
       "      <td> 8</td>\n",
       "      <td> 23</td>\n",
       "    </tr>\n",
       "    <tr>\n",
       "      <th>20110101-00-04</th>\n",
       "      <td> 33</td>\n",
       "      <td>-9</td>\n",
       "      <td> 8</td>\n",
       "      <td> 24</td>\n",
       "    </tr>\n",
       "  </tbody>\n",
       "</table>\n",
       "</div>"
      ],
      "text/plain": [
       "aur_type        AE  AL  AO  AU\n",
       "datetimeStr                   \n",
       "20110101-00-00  31  -8   8  23\n",
       "20110101-00-01  32  -8   8  24\n",
       "20110101-00-02  31  -8   8  23\n",
       "20110101-00-03  31  -8   8  23\n",
       "20110101-00-04  33  -9   8  24"
      ]
     },
     "execution_count": 2,
     "metadata": {},
     "output_type": "execute_result"
    }
   ],
   "source": [
    "baseDir = \"../data/\"\n",
    "# Setup some col names\n",
    "colList = []\n",
    "for colNum in range(64):\n",
    "    if colNum == 0: \n",
    "        colList.append( \"data1\" )\n",
    "    elif colNum == 1: \n",
    "        colList.append( \"aurDateStr\" )\n",
    "    elif colNum == 2: \n",
    "        colList.append( \"data2\" )\n",
    "    elif colNum == 63:\n",
    "        colList.append( \"hourly_average\" )\n",
    "    else:\n",
    "        currMinute = str(colNum-3)\n",
    "        if colNum-3 < 10:\n",
    "            currMinute = \"0\" + str(colNum-3)\n",
    "        colList.append( currMinute )\n",
    "        \n",
    "def split_aurtype_datetime(row):\n",
    "        if \"AU\" in row[\"aurDateStr\"]:\n",
    "            currDateHourStr = \"20\" + row[\"aurDateStr\"].split(\"U\")[0] +\\\n",
    "                \"-\" +  row[\"aurDateStr\"].split(\"U\")[1][:2]\n",
    "        elif \"AL\" in row[\"aurDateStr\"]:\n",
    "            currDateHourStr = \"20\" + row[\"aurDateStr\"].split(\"L\")[0] +\\\n",
    "                \"-\" +  row[\"aurDateStr\"].split(\"L\")[1][:2]\n",
    "        elif \"AO\" in row[\"aurDateStr\"]:\n",
    "            currDateHourStr = \"20\" + row[\"aurDateStr\"].split(\"O\")[0] +\\\n",
    "                \"-\" +  row[\"aurDateStr\"].split(\"O\")[1][:2]\n",
    "        else:\n",
    "            currDateHourStr = \"20\" + row[\"aurDateStr\"].split(\"E\")[0] +\\\n",
    "                \"-\" +  row[\"aurDateStr\"].split(\"E\")[1][:2]\n",
    "        return currDateHourStr   \n",
    "    \n",
    "def get_aur_type(row):\n",
    "        if \"AU\" in row[\"aurDateStr\"]:\n",
    "            return \"AU\"\n",
    "        elif \"AL\" in row[\"aurDateStr\"]:\n",
    "            return \"AL\"\n",
    "        elif \"AO\" in row[\"aurDateStr\"]:\n",
    "            return \"AO\"\n",
    "        else:\n",
    "            return \"AE\"\n",
    "\n",
    "rawAurDFList = []        \n",
    "# Loop through the directory and get all files\n",
    "for root, dirs, files in os.walk(baseDir):\n",
    "    for fName in files:\n",
    "        if \"ae\" not in fName:\n",
    "            continue\n",
    "        print \"currently working with-->\", root + fName\n",
    "        currAurDF = pandas.read_csv( root + fName, delim_whitespace=True,\\\n",
    "                                    header=None, names=colList )\n",
    "        currAurDF[\"dateStr\"] = currAurDF.apply( split_aurtype_datetime, axis=1 )\n",
    "        currAurDF[\"aur_type\"] = currAurDF.apply( get_aur_type, axis=1 )\n",
    "        rawAurDFList.append( currAurDF )\n",
    "rawAurDF = pandas.concat( rawAurDFList )\n",
    "# Convert the dataframe to\n",
    "selColList = [\"dateStr\", \"aur_type\"] + [ \"0\" + str(x) if x < 10 else str(x) for x in range(60) ]\n",
    "rawAurDF = rawAurDF[selColList]\n",
    "aurDF = pandas.melt(rawAurDF, id_vars=[\"dateStr\", \"aur_type\"], \n",
    "                  var_name=\"minute\", value_name=\"Value\")\n",
    "aurDF[\"datetimeStr\"] = aurDF[\"dateStr\"] + \"-\" + aurDF[\"minute\"]\n",
    "# aurDF[\"date\"] = pandas.to_datetime(aurDF[\"datetimeStr\"], format='%Y%m%d-%H-%M')\n",
    "# aurDF[\"hour\"] = aurDF[\"date\"].apply(lambda x: x.strftime('%H'))\n",
    "# aurDF[\"minute\"] = aurDF[\"date\"].apply(lambda x: x.strftime('%M'))\n",
    "# aurDF = aurDF[ [ \"date\", \"datetimeStr\",\"aur_type\", \"minute\", \"hour\", \"Value\" ] ]\n",
    "aurDF = aurDF[ [ \"datetimeStr\",\"aur_type\", \"Value\" ] ]\n",
    "aurDF = aurDF.drop_duplicates()\n",
    "aurDF = aurDF.pivot(index='datetimeStr',\\\n",
    "                columns='aur_type', values='Value')\n",
    "aurDF.to_csv(\"../data/aur_processed.txt\", sep=' ')\n",
    "aurDF.head()"
   ]
  },
  {
   "cell_type": "code",
   "execution_count": null,
   "metadata": {
    "collapsed": true
   },
   "outputs": [],
   "source": []
  }
 ],
 "metadata": {
  "kernelspec": {
   "display_name": "Python 2",
   "language": "python",
   "name": "python2"
  },
  "language_info": {
   "codemirror_mode": {
    "name": "ipython",
    "version": 2
   },
   "file_extension": ".py",
   "mimetype": "text/x-python",
   "name": "python",
   "nbconvert_exporter": "python",
   "pygments_lexer": "ipython2",
   "version": "2.7.9"
  }
 },
 "nbformat": 4,
 "nbformat_minor": 1
}

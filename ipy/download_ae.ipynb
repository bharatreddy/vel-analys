{
 "cells": [
  {
   "cell_type": "code",
   "execution_count": 1,
   "metadata": {
    "collapsed": true
   },
   "outputs": [],
   "source": [
    "import pandas\n",
    "import datetime\n",
    "import os"
   ]
  },
  {
   "cell_type": "code",
   "execution_count": 22,
   "metadata": {
    "collapsed": false
   },
   "outputs": [
    {
     "name": "stdout",
     "output_type": "stream",
     "text": [
      "currently working with--> ../data/ae_2011.txt\n",
      "currently working with--> ../data/ae_2012.txt\n",
      "currently working with--> ../data/ae_2013.txt\n",
      "currently working with--> ../data/ae_2014.txt\n"
     ]
    },
    {
     "ename": "KeyError",
     "evalue": "\"['value'] not in index\"",
     "output_type": "error",
     "traceback": [
      "\u001b[0;31m---------------------------------------------------------------------------\u001b[0m",
      "\u001b[0;31mKeyError\u001b[0m                                  Traceback (most recent call last)",
      "\u001b[0;32m<ipython-input-22-a9777949a034>\u001b[0m in \u001b[0;36m<module>\u001b[0;34m()\u001b[0m\n\u001b[1;32m     59\u001b[0m \u001b[0maurDF\u001b[0m\u001b[0;34m[\u001b[0m\u001b[0;34m\"hour\"\u001b[0m\u001b[0;34m]\u001b[0m \u001b[0;34m=\u001b[0m \u001b[0maurDF\u001b[0m\u001b[0;34m[\u001b[0m\u001b[0;34m\"date\"\u001b[0m\u001b[0;34m]\u001b[0m\u001b[0;34m.\u001b[0m\u001b[0mapply\u001b[0m\u001b[0;34m(\u001b[0m\u001b[0;32mlambda\u001b[0m \u001b[0mx\u001b[0m\u001b[0;34m:\u001b[0m \u001b[0mx\u001b[0m\u001b[0;34m.\u001b[0m\u001b[0mstrftime\u001b[0m\u001b[0;34m(\u001b[0m\u001b[0;34m'%H'\u001b[0m\u001b[0;34m)\u001b[0m\u001b[0;34m)\u001b[0m\u001b[0;34m\u001b[0m\u001b[0m\n\u001b[1;32m     60\u001b[0m \u001b[0maurDF\u001b[0m\u001b[0;34m[\u001b[0m\u001b[0;34m\"minute\"\u001b[0m\u001b[0;34m]\u001b[0m \u001b[0;34m=\u001b[0m \u001b[0maurDF\u001b[0m\u001b[0;34m[\u001b[0m\u001b[0;34m\"date\"\u001b[0m\u001b[0;34m]\u001b[0m\u001b[0;34m.\u001b[0m\u001b[0mapply\u001b[0m\u001b[0;34m(\u001b[0m\u001b[0;32mlambda\u001b[0m \u001b[0mx\u001b[0m\u001b[0;34m:\u001b[0m \u001b[0mx\u001b[0m\u001b[0;34m.\u001b[0m\u001b[0mstrftime\u001b[0m\u001b[0;34m(\u001b[0m\u001b[0;34m'%M'\u001b[0m\u001b[0;34m)\u001b[0m\u001b[0;34m)\u001b[0m\u001b[0;34m\u001b[0m\u001b[0m\n\u001b[0;32m---> 61\u001b[0;31m \u001b[0maurDF\u001b[0m \u001b[0;34m=\u001b[0m \u001b[0maurDF\u001b[0m\u001b[0;34m[\u001b[0m \u001b[0;34m[\u001b[0m \u001b[0;34m\"date\"\u001b[0m\u001b[0;34m,\u001b[0m \u001b[0;34m\"datetimeStr\"\u001b[0m\u001b[0;34m,\u001b[0m\u001b[0;34m\"aur_type\"\u001b[0m\u001b[0;34m,\u001b[0m \u001b[0;34m\"minute\"\u001b[0m\u001b[0;34m,\u001b[0m \u001b[0;34m\"hour\"\u001b[0m\u001b[0;34m,\u001b[0m \u001b[0;34m\"value\"\u001b[0m \u001b[0;34m]\u001b[0m \u001b[0;34m]\u001b[0m\u001b[0;34m\u001b[0m\u001b[0m\n\u001b[0m\u001b[1;32m     62\u001b[0m \u001b[0maurDF\u001b[0m\u001b[0;34m.\u001b[0m\u001b[0mhead\u001b[0m\u001b[0;34m(\u001b[0m\u001b[0;34m)\u001b[0m\u001b[0;34m\u001b[0m\u001b[0m\n",
      "\u001b[0;32m/usr/local/lib/python2.7/site-packages/pandas/core/frame.pyc\u001b[0m in \u001b[0;36m__getitem__\u001b[0;34m(self, key)\u001b[0m\n\u001b[1;32m   1772\u001b[0m         \u001b[0;32mif\u001b[0m \u001b[0misinstance\u001b[0m\u001b[0;34m(\u001b[0m\u001b[0mkey\u001b[0m\u001b[0;34m,\u001b[0m \u001b[0;34m(\u001b[0m\u001b[0mSeries\u001b[0m\u001b[0;34m,\u001b[0m \u001b[0mnp\u001b[0m\u001b[0;34m.\u001b[0m\u001b[0mndarray\u001b[0m\u001b[0;34m,\u001b[0m \u001b[0mIndex\u001b[0m\u001b[0;34m,\u001b[0m \u001b[0mlist\u001b[0m\u001b[0;34m)\u001b[0m\u001b[0;34m)\u001b[0m\u001b[0;34m:\u001b[0m\u001b[0;34m\u001b[0m\u001b[0m\n\u001b[1;32m   1773\u001b[0m             \u001b[0;31m# either boolean or fancy integer index\u001b[0m\u001b[0;34m\u001b[0m\u001b[0;34m\u001b[0m\u001b[0m\n\u001b[0;32m-> 1774\u001b[0;31m             \u001b[0;32mreturn\u001b[0m \u001b[0mself\u001b[0m\u001b[0;34m.\u001b[0m\u001b[0m_getitem_array\u001b[0m\u001b[0;34m(\u001b[0m\u001b[0mkey\u001b[0m\u001b[0;34m)\u001b[0m\u001b[0;34m\u001b[0m\u001b[0m\n\u001b[0m\u001b[1;32m   1775\u001b[0m         \u001b[0;32melif\u001b[0m \u001b[0misinstance\u001b[0m\u001b[0;34m(\u001b[0m\u001b[0mkey\u001b[0m\u001b[0;34m,\u001b[0m \u001b[0mDataFrame\u001b[0m\u001b[0;34m)\u001b[0m\u001b[0;34m:\u001b[0m\u001b[0;34m\u001b[0m\u001b[0m\n\u001b[1;32m   1776\u001b[0m             \u001b[0;32mreturn\u001b[0m \u001b[0mself\u001b[0m\u001b[0;34m.\u001b[0m\u001b[0m_getitem_frame\u001b[0m\u001b[0;34m(\u001b[0m\u001b[0mkey\u001b[0m\u001b[0;34m)\u001b[0m\u001b[0;34m\u001b[0m\u001b[0m\n",
      "\u001b[0;32m/usr/local/lib/python2.7/site-packages/pandas/core/frame.pyc\u001b[0m in \u001b[0;36m_getitem_array\u001b[0;34m(self, key)\u001b[0m\n\u001b[1;32m   1816\u001b[0m             \u001b[0;32mreturn\u001b[0m \u001b[0mself\u001b[0m\u001b[0;34m.\u001b[0m\u001b[0mtake\u001b[0m\u001b[0;34m(\u001b[0m\u001b[0mindexer\u001b[0m\u001b[0;34m,\u001b[0m \u001b[0maxis\u001b[0m\u001b[0;34m=\u001b[0m\u001b[0;36m0\u001b[0m\u001b[0;34m,\u001b[0m \u001b[0mconvert\u001b[0m\u001b[0;34m=\u001b[0m\u001b[0mFalse\u001b[0m\u001b[0;34m)\u001b[0m\u001b[0;34m\u001b[0m\u001b[0m\n\u001b[1;32m   1817\u001b[0m         \u001b[0;32melse\u001b[0m\u001b[0;34m:\u001b[0m\u001b[0;34m\u001b[0m\u001b[0m\n\u001b[0;32m-> 1818\u001b[0;31m             \u001b[0mindexer\u001b[0m \u001b[0;34m=\u001b[0m \u001b[0mself\u001b[0m\u001b[0;34m.\u001b[0m\u001b[0mix\u001b[0m\u001b[0;34m.\u001b[0m\u001b[0m_convert_to_indexer\u001b[0m\u001b[0;34m(\u001b[0m\u001b[0mkey\u001b[0m\u001b[0;34m,\u001b[0m \u001b[0maxis\u001b[0m\u001b[0;34m=\u001b[0m\u001b[0;36m1\u001b[0m\u001b[0;34m)\u001b[0m\u001b[0;34m\u001b[0m\u001b[0m\n\u001b[0m\u001b[1;32m   1819\u001b[0m             \u001b[0;32mreturn\u001b[0m \u001b[0mself\u001b[0m\u001b[0;34m.\u001b[0m\u001b[0mtake\u001b[0m\u001b[0;34m(\u001b[0m\u001b[0mindexer\u001b[0m\u001b[0;34m,\u001b[0m \u001b[0maxis\u001b[0m\u001b[0;34m=\u001b[0m\u001b[0;36m1\u001b[0m\u001b[0;34m,\u001b[0m \u001b[0mconvert\u001b[0m\u001b[0;34m=\u001b[0m\u001b[0mTrue\u001b[0m\u001b[0;34m)\u001b[0m\u001b[0;34m\u001b[0m\u001b[0m\n\u001b[1;32m   1820\u001b[0m \u001b[0;34m\u001b[0m\u001b[0m\n",
      "\u001b[0;32m/usr/local/lib/python2.7/site-packages/pandas/core/indexing.pyc\u001b[0m in \u001b[0;36m_convert_to_indexer\u001b[0;34m(self, obj, axis, is_setter)\u001b[0m\n\u001b[1;32m   1141\u001b[0m                     \u001b[0;32mif\u001b[0m \u001b[0misinstance\u001b[0m\u001b[0;34m(\u001b[0m\u001b[0mobj\u001b[0m\u001b[0;34m,\u001b[0m \u001b[0mtuple\u001b[0m\u001b[0;34m)\u001b[0m \u001b[0;32mand\u001b[0m \u001b[0mis_setter\u001b[0m\u001b[0;34m:\u001b[0m\u001b[0;34m\u001b[0m\u001b[0m\n\u001b[1;32m   1142\u001b[0m                         \u001b[0;32mreturn\u001b[0m \u001b[0;34m{\u001b[0m\u001b[0;34m'key'\u001b[0m\u001b[0;34m:\u001b[0m \u001b[0mobj\u001b[0m\u001b[0;34m}\u001b[0m\u001b[0;34m\u001b[0m\u001b[0m\n\u001b[0;32m-> 1143\u001b[0;31m                     \u001b[0;32mraise\u001b[0m \u001b[0mKeyError\u001b[0m\u001b[0;34m(\u001b[0m\u001b[0;34m'%s not in index'\u001b[0m \u001b[0;34m%\u001b[0m \u001b[0mobjarr\u001b[0m\u001b[0;34m[\u001b[0m\u001b[0mmask\u001b[0m\u001b[0;34m]\u001b[0m\u001b[0;34m)\u001b[0m\u001b[0;34m\u001b[0m\u001b[0m\n\u001b[0m\u001b[1;32m   1144\u001b[0m \u001b[0;34m\u001b[0m\u001b[0m\n\u001b[1;32m   1145\u001b[0m                 \u001b[0;32mreturn\u001b[0m \u001b[0m_values_from_object\u001b[0m\u001b[0;34m(\u001b[0m\u001b[0mindexer\u001b[0m\u001b[0;34m)\u001b[0m\u001b[0;34m\u001b[0m\u001b[0m\n",
      "\u001b[0;31mKeyError\u001b[0m: \"['value'] not in index\""
     ]
    }
   ],
   "source": [
    "baseDir = \"../data/\"\n",
    "# Setup some col names\n",
    "colList = []\n",
    "for colNum in range(64):\n",
    "    if colNum == 0: \n",
    "        colList.append( \"data1\" )\n",
    "    elif colNum == 1: \n",
    "        colList.append( \"aurDateStr\" )\n",
    "    elif colNum == 2: \n",
    "        colList.append( \"data2\" )\n",
    "    elif colNum == 63:\n",
    "        colList.append( \"hourly_average\" )\n",
    "    else:\n",
    "        currMinute = str(colNum-3)\n",
    "        if colNum-3 < 10:\n",
    "            currMinute = \"0\" + str(colNum-3)\n",
    "        colList.append( currMinute )\n",
    "        \n",
    "def split_aurtype_datetime(row):\n",
    "        if \"AU\" in row[\"aurDateStr\"]:\n",
    "            currDateHourStr = \"20\" + row[\"aurDateStr\"].split(\"U\")[0] +\\\n",
    "                \"-\" +  row[\"aurDateStr\"].split(\"U\")[1][:2]\n",
    "        elif \"AL\" in row[\"aurDateStr\"]:\n",
    "            currDateHourStr = \"20\" + row[\"aurDateStr\"].split(\"L\")[0] +\\\n",
    "                \"-\" +  row[\"aurDateStr\"].split(\"L\")[1][:2]\n",
    "        elif \"AO\" in row[\"aurDateStr\"]:\n",
    "            currDateHourStr = \"20\" + row[\"aurDateStr\"].split(\"O\")[0] +\\\n",
    "                \"-\" +  row[\"aurDateStr\"].split(\"O\")[1][:2]\n",
    "        else:\n",
    "            currDateHourStr = \"20\" + row[\"aurDateStr\"].split(\"E\")[0] +\\\n",
    "                \"-\" +  row[\"aurDateStr\"].split(\"E\")[1][:2]\n",
    "        return currDateHourStr   \n",
    "    \n",
    "def get_aur_type(row):\n",
    "        if \"AU\" in row[\"aurDateStr\"]:\n",
    "            return \"AU\"\n",
    "        elif \"AL\" in row[\"aurDateStr\"]:\n",
    "            return \"AL\"\n",
    "        elif \"AO\" in row[\"aurDateStr\"]:\n",
    "            return \"AO\"\n",
    "        else:\n",
    "            return \"AE\"\n",
    "\n",
    "rawAurDFList = []        \n",
    "# Loop through the directory and get all files\n",
    "for root, dirs, files in os.walk(baseDir):\n",
    "    for fName in files:\n",
    "        if \"ae\" not in fName:\n",
    "            continue\n",
    "        print \"currently working with-->\", root + fName\n",
    "        currAurDF = pandas.read_csv( root + fName, delim_whitespace=True,\\\n",
    "                                    header=None, names=colList )\n",
    "        currAurDF[\"dateStr\"] = currAurDF.apply( split_aurtype_datetime, axis=1 )\n",
    "        currAurDF[\"aur_type\"] = currAurDF.apply( get_aur_type, axis=1 )\n",
    "        rawAurDFList.append( currAurDF )\n",
    "rawAurDF = pandas.concat( rawAurDFList )\n",
    "# Convert the dataframe to\n",
    "selColList = [\"dateStr\", \"aur_type\"] + [ \"0\" + str(x) if x < 10 else str(x) for x in range(60) ]\n",
    "rawAurDF = rawAurDF[selColList]\n",
    "aurDF = pandas.melt(rawAurDF, id_vars=[\"dateStr\", \"aur_type\"], \n",
    "                  var_name=\"minute\", value_name=\"Value\")\n",
    "aurDF[\"datetimeStr\"] = aurDF[\"dateStr\"] + \"-\" + aurDF[\"minute\"]\n",
    "aurDF[\"date\"] = pandas.to_datetime(aurDF[\"datetimeStr\"], format='%Y%m%d-%H-%M')\n",
    "aurDF[\"hour\"] = aurDF[\"date\"].apply(lambda x: x.strftime('%H'))\n",
    "aurDF[\"minute\"] = aurDF[\"date\"].apply(lambda x: x.strftime('%M'))\n",
    "aurDF = aurDF[ [ \"date\", \"datetimeStr\",\"aur_type\", \"minute\", \"hour\", \"Value\" ] ]\n",
    "aurDF.head()"
   ]
  },
  {
   "cell_type": "code",
   "execution_count": 20,
   "metadata": {
    "collapsed": false
   },
   "outputs": [
    {
     "data": {
      "text/plain": [
       "0   2011-01-01 00:00:00\n",
       "1   2011-01-01 01:00:00\n",
       "2   2011-01-01 02:00:00\n",
       "3   2011-01-01 03:00:00\n",
       "4   2011-01-01 04:00:00\n",
       "Name: date, dtype: datetime64[ns]"
      ]
     },
     "execution_count": 20,
     "metadata": {},
     "output_type": "execute_result"
    }
   ],
   "source": [
    "selColList = [\"dateStr\", \"aur_type\"] + [ \"0\" + str(x) if x < 10 else str(x) for x in range(60) ]\n",
    "currAurDF = currAurDF[selColList]\n",
    "aurDF = pandas.melt(currAurDF, id_vars=[\"dateStr\", \"aur_type\"], \n",
    "                  var_name=\"minute\", value_name=\"Value\")\n",
    "aurDF[\"datetimeStr\"] = aurDF[\"dateStr\"] + \"-\" + aurDF[\"minute\"]\n",
    "aurDF[\"date\"] = pandas.to_datetime(aurDF[\"datetimeStr\"], format='%Y%m%d-%H-%M')\n",
    "# aurDF[\"date\"] = aurDF[\"datetimeStr\"].apply(lambda x: datetime.datetime.strptime(x,'%Y%m%d-%H-%M'))\n",
    "aurDF[\"date\"].head()"
   ]
  },
  {
   "cell_type": "code",
   "execution_count": 18,
   "metadata": {
    "collapsed": false
   },
   "outputs": [
    {
     "data": {
      "text/plain": [
       "array(['00', '01', '02', '03', '04', '05', '06', '07', '08', '09', '10',\n",
       "       '11', '12', '13', '14', '15', '16', '17', '18', '19', '20', '21',\n",
       "       '22', '23', '24', '25', '26', '27', '28', '29', '30', '31', '32',\n",
       "       '33', '34', '35', '36', '37', '38', '39', '40', '41', '42', '43',\n",
       "       '44', '45', '46', '47', '48', '49', '50', '51', '52', '53', '54',\n",
       "       '55', '56', '57', '58', '59', '60'], dtype=object)"
      ]
     },
     "execution_count": 18,
     "metadata": {},
     "output_type": "execute_result"
    }
   ],
   "source": [
    "# print datetime.datetime.strptime( \"20110101-00-10\", \"%Y%m%d-%H-%M\" )\n",
    "aurDF[\"minute\"].unique()"
   ]
  },
  {
   "cell_type": "code",
   "execution_count": null,
   "metadata": {
    "collapsed": true
   },
   "outputs": [],
   "source": []
  }
 ],
 "metadata": {
  "kernelspec": {
   "display_name": "Python 2",
   "language": "python",
   "name": "python2"
  },
  "language_info": {
   "codemirror_mode": {
    "name": "ipython",
    "version": 2
   },
   "file_extension": ".py",
   "mimetype": "text/x-python",
   "name": "python",
   "nbconvert_exporter": "python",
   "pygments_lexer": "ipython2",
   "version": "2.7.9"
  }
 },
 "nbformat": 4,
 "nbformat_minor": 1
}

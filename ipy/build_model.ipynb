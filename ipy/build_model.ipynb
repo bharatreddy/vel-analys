{
 "cells": [
  {
   "cell_type": "code",
   "execution_count": 1,
   "metadata": {
    "collapsed": true
   },
   "outputs": [],
   "source": [
    "import pandas\n",
    "import datetime\n",
    "import numpy\n",
    "from sklearn import linear_model\n",
    "import scipy\n",
    "from scipy.optimize import curve_fit\n",
    "import seaborn as sns\n",
    "import matplotlib.pyplot as plt\n",
    "%matplotlib inline\n",
    "from matplotlib.colors import ListedColormap\n",
    "from matplotlib.colors import Normalize\n",
    "from matplotlib import ticker\n",
    "from matplotlib import rcParams"
   ]
  },
  {
   "cell_type": "code",
   "execution_count": 2,
   "metadata": {
    "collapsed": false
   },
   "outputs": [],
   "source": [
    "# Some parameters we'll use\n",
    "probCutOff = 0.2\n",
    "modelVelScale = [ 0., 2000. ]\n",
    "velsNormArr = numpy.arange(0.,2100.,100.) / max( modelVelScale )\n",
    "dstVal = -50."
   ]
  },
  {
   "cell_type": "code",
   "execution_count": 3,
   "metadata": {
    "collapsed": true
   },
   "outputs": [],
   "source": [
    "# SAPS Prob Pred Func\n",
    "def saps_prob_pred_func(MLAT, normMLT, dst):    \n",
    "    (a_sx, b_sx, a_sy, b_sy, a_xo, b_xo, a_yo, b_yo, a_o, b_o, theta) = \\\n",
    "        ( 3.11, 3.71e-03, 1.72,\\\n",
    "             8.19e-04, 4.59, 6.33e-02, -1.19, 3.21e-02,\n",
    "             8.93e-01, -1.47e-03, 6.92e-01)\n",
    "    x = MLAT - 57.5 # NORMALIZE\n",
    "    y = normMLT\n",
    "    sigma_x = a_sx + b_sx * dst\n",
    "    sigma_y = a_sy + b_sy * dst\n",
    "    xo = a_xo + b_xo * dst\n",
    "    yo = a_yo + b_yo * dst\n",
    "    amplitude = a_o + b_o * dst    \n",
    "    \n",
    "    a = (numpy.cos(theta)**2)/(2*sigma_x**2) + (numpy.sin(theta)**2)/(2*sigma_y**2)\n",
    "    b = -(numpy.sin(2*theta))/(4*sigma_x**2) + (numpy.sin(2*theta))/(4*sigma_y**2)\n",
    "    c = (numpy.sin(theta)**2)/(2*sigma_x**2) + (numpy.cos(theta)**2)/(2*sigma_y**2)\n",
    "    prob = amplitude*numpy.exp( - (a*((x-xo)**2) + 2*b*(x-xo)*(y-yo) \n",
    "                            + c*((y-yo)**2)))\n",
    "    return prob"
   ]
  },
  {
   "cell_type": "code",
   "execution_count": 4,
   "metadata": {
    "collapsed": true
   },
   "outputs": [],
   "source": [
    "# SAPS Vel Azim Pred Func\n",
    "def saps_velAzim_pred_func(normMLT, dst):\n",
    "\n",
    "    ( a1mlt_azim, a2mlt_azim,\\\n",
    "               b1mlt_azim, b2mlt_azim ) = ( -1.18e+01, -4.55e-02, 4.24e-01, -6.13e-03 )\n",
    "    \n",
    "    # model shape parameters\n",
    "    # mlt\n",
    "    a_azim = a1mlt_azim + a2mlt_azim * dst\n",
    "    b_azim = b1mlt_azim + b2mlt_azim * dst\n",
    "    # func\n",
    "    azim = a_azim + b_azim*(normMLT)\n",
    "    \n",
    "    return azim"
   ]
  },
  {
   "cell_type": "code",
   "execution_count": 5,
   "metadata": {
    "collapsed": true
   },
   "outputs": [],
   "source": [
    "# SAPS Vel Magn Pred Funcs\n",
    "# We need to get the scale, shape and loc\n",
    "# parameters and then use them get the pdf \n",
    "# and then get the mean velocity from the pdf!!!\n",
    "def saps_vm_scale_pred_func(mlt,mlat, dst):\n",
    "    \n",
    "    ( a_ascmlt, b_ascmlt, a_bscmlt, \\\n",
    "         b_bscmlt, a_cscmlt, b_cscmlt,\\\n",
    "         a_asclat, b_asclat, a_bsclat, b_bsclat ) = ( -1.23e-02, -6.02e-05, -2.9e-04,\\\n",
    "                            -1.79e-05, -1.26e-04, -3.32e-06,\\\n",
    "                            3.47e+01, 2.2e-01, -8.09e-01, -9.76e-04 )\n",
    "    \n",
    "    \n",
    "    a_scale_mlt = a_ascmlt + b_ascmlt * dst\n",
    "    b_scale_mlt = a_bscmlt + b_bscmlt * dst\n",
    "    c_scale_mlt = a_cscmlt + b_cscmlt * dst\n",
    "    # mlat\n",
    "    a_scale_mlat = a_asclat + b_asclat * dst\n",
    "    b_scale_mlat = a_bsclat + b_bsclat * dst\n",
    "    # func\n",
    "    scale = ( a_scale_mlt + b_scale_mlt*(mlt) + c_scale_mlt*(mlt**2) ) * ( a_scale_mlat + b_scale_mlat*(mlat) )\n",
    "    \n",
    "    return scale\n",
    "\n",
    "\n",
    "def saps_vm_shape_pred_func(mlt,mlat, dst):\n",
    "    \n",
    "    ( a_ashmlt, b_ashmlt, a_bshmlt, b_bshmlt,\\\n",
    "               a_ashlat, b_ashlat, a_bshlat, b_bshlat ) = ( -4.72e-02, -3.63e-04, -1.59e-03,\\\n",
    "                                     -2.3e-06, -5.61e+03, 1.19e+02, 8.42e+01, -2.05e+00 ) \n",
    "    \n",
    "    # model shape parameters\n",
    "    # mlt\n",
    "    a_shape_mlt = a_ashmlt + b_ashmlt * dst\n",
    "    b_shape_mlt = a_bshmlt + b_bshmlt * dst\n",
    "    # mlat\n",
    "    a_shape_mlat = a_ashlat + b_ashlat * dst\n",
    "    b_shape_mlat = a_bshlat + b_bshlat * dst\n",
    "    # func\n",
    "    shape = ( a_shape_mlt + b_shape_mlt*(mlt) ) * ( a_shape_mlat + b_shape_mlat*(mlat) )\n",
    "    \n",
    "    return shape\n",
    "\n",
    "def saps_vm_loc_pred_func(mlt,mlat, dst):\n",
    "    \n",
    "    \n",
    "    ( a_alcmlt, b_alcmlt, a_blcmlt, b_blcmlt,\\\n",
    "               a_alclat, b_alclat, a_blclat, b_blclat ) = ( -2.81e-03, -2.11e-05, -1.01e-04, -5.51e-06,\\\n",
    "                                        -5.39e-01, 1.50e-03, 7.38e-02, -1.33e-04 )\n",
    "    \n",
    "    \n",
    "    # model loc parameters\n",
    "    # mlt\n",
    "    a_loc_mlt = a_alcmlt + b_alcmlt * dst\n",
    "    b_loc_mlt = a_blcmlt + b_blcmlt * dst\n",
    "    # malt\n",
    "    a_loc_mlat = a_alclat + b_alclat * dst\n",
    "    b_loc_mlat = a_blclat + b_blclat * dst\n",
    "    # func\n",
    "    loc = ( a_loc_mlt + b_loc_mlt*(mlt) ) * ( a_loc_mlat*numpy.exp(b_loc_mlat*mlat) )\n",
    "    return loc\n",
    "\n",
    "def saps_velMagn_mean_pred_func( scale, shape, loc ):\n",
    "    \n",
    "    meanNormVel = scipy.stats.skewnorm.mean( shape, loc=loc, scale=scale )\n",
    "    meanVel = meanNormVel * max( modelVelScale )\n",
    "    return meanVel"
   ]
  },
  {
   "cell_type": "code",
   "execution_count": 6,
   "metadata": {
    "collapsed": false
   },
   "outputs": [
    {
     "data": {
      "text/html": [
       "<div>\n",
       "<table border=\"1\" class=\"dataframe\">\n",
       "  <thead>\n",
       "    <tr style=\"text-align: right;\">\n",
       "      <th></th>\n",
       "      <th>normMLT</th>\n",
       "      <th>normLAT</th>\n",
       "      <th>prob_pred</th>\n",
       "      <th>MLT</th>\n",
       "      <th>MLAT</th>\n",
       "      <th>dst_index</th>\n",
       "      <th>shape_pred</th>\n",
       "      <th>scale_pred</th>\n",
       "      <th>loc_pred</th>\n",
       "      <th>mean_vel_pred</th>\n",
       "      <th>azim_pred</th>\n",
       "    </tr>\n",
       "  </thead>\n",
       "  <tbody>\n",
       "    <tr>\n",
       "      <th>0</th>\n",
       "      <td>-2</td>\n",
       "      <td>-2.5</td>\n",
       "      <td>0.25</td>\n",
       "      <td>22</td>\n",
       "      <td>55.0</td>\n",
       "      <td>-50.0</td>\n",
       "      <td>33.708150</td>\n",
       "      <td>0.187268</td>\n",
       "      <td>0.107860</td>\n",
       "      <td>514.42</td>\n",
       "      <td>-10.99</td>\n",
       "    </tr>\n",
       "    <tr>\n",
       "      <th>1</th>\n",
       "      <td>-1</td>\n",
       "      <td>-2.5</td>\n",
       "      <td>0.28</td>\n",
       "      <td>23</td>\n",
       "      <td>55.0</td>\n",
       "      <td>-50.0</td>\n",
       "      <td>35.613112</td>\n",
       "      <td>0.178484</td>\n",
       "      <td>0.098914</td>\n",
       "      <td>482.53</td>\n",
       "      <td>-10.26</td>\n",
       "    </tr>\n",
       "    <tr>\n",
       "      <th>2</th>\n",
       "      <td>0</td>\n",
       "      <td>-2.5</td>\n",
       "      <td>0.25</td>\n",
       "      <td>24</td>\n",
       "      <td>55.0</td>\n",
       "      <td>-50.0</td>\n",
       "      <td>37.518075</td>\n",
       "      <td>0.168251</td>\n",
       "      <td>0.089968</td>\n",
       "      <td>448.33</td>\n",
       "      <td>-9.52</td>\n",
       "    </tr>\n",
       "    <tr>\n",
       "      <th>3</th>\n",
       "      <td>-3</td>\n",
       "      <td>-2.0</td>\n",
       "      <td>0.25</td>\n",
       "      <td>21</td>\n",
       "      <td>55.5</td>\n",
       "      <td>-50.0</td>\n",
       "      <td>29.504444</td>\n",
       "      <td>0.198687</td>\n",
       "      <td>0.121599</td>\n",
       "      <td>560.08</td>\n",
       "      <td>-11.72</td>\n",
       "    </tr>\n",
       "    <tr>\n",
       "      <th>4</th>\n",
       "      <td>-2</td>\n",
       "      <td>-2.0</td>\n",
       "      <td>0.35</td>\n",
       "      <td>22</td>\n",
       "      <td>55.5</td>\n",
       "      <td>-50.0</td>\n",
       "      <td>31.271715</td>\n",
       "      <td>0.191198</td>\n",
       "      <td>0.112287</td>\n",
       "      <td>529.53</td>\n",
       "      <td>-10.99</td>\n",
       "    </tr>\n",
       "  </tbody>\n",
       "</table>\n",
       "</div>"
      ],
      "text/plain": [
       "   normMLT  normLAT  prob_pred  MLT  MLAT  dst_index  shape_pred  scale_pred  \\\n",
       "0       -2     -2.5       0.25   22  55.0      -50.0   33.708150    0.187268   \n",
       "1       -1     -2.5       0.28   23  55.0      -50.0   35.613112    0.178484   \n",
       "2        0     -2.5       0.25   24  55.0      -50.0   37.518075    0.168251   \n",
       "3       -3     -2.0       0.25   21  55.5      -50.0   29.504444    0.198687   \n",
       "4       -2     -2.0       0.35   22  55.5      -50.0   31.271715    0.191198   \n",
       "\n",
       "   loc_pred  mean_vel_pred  azim_pred  \n",
       "0  0.107860         514.42     -10.99  \n",
       "1  0.098914         482.53     -10.26  \n",
       "2  0.089968         448.33      -9.52  \n",
       "3  0.121599         560.08     -11.72  \n",
       "4  0.112287         529.53     -10.99  "
      ]
     },
     "execution_count": 6,
     "metadata": {},
     "output_type": "execute_result"
    }
   ],
   "source": [
    "colList = [\"normMLT\", \"normLAT\", \"prob_pred\",\\\n",
    "           \"MLT\", \"MLAT\", \"dst_index\", \"shape_pred\",\\\n",
    "           \"scale_pred\", \"loc_pred\", \"mean_vel_pred\", \"azim_pred\"]\n",
    "sapsPredDF = pandas.DataFrame(columns=colList)\n",
    "latArr = []\n",
    "mltArr = []\n",
    "normLatArr = []\n",
    "normMltArr = []\n",
    "dstValArr = []\n",
    "dstBinArr = []\n",
    "\n",
    "\n",
    "for x in numpy.arange(50., 65., 0.5):\n",
    "    for y in range(-11,5):\n",
    "        currNormLat =  x - 57.5\n",
    "        normLatArr.append( currNormLat )\n",
    "        normMltArr.append( y )\n",
    "        if y > 0:\n",
    "            mltArr.append( y )\n",
    "        else:\n",
    "            mltArr.append( y + 24 )\n",
    "        latArr.append( x )\n",
    "        dstValArr.append(dstVal)\n",
    "        \n",
    "sapsPredDF[\"MLT\"] = mltArr\n",
    "sapsPredDF[\"MLAT\"] = latArr\n",
    "sapsPredDF[\"normMLT\"] = normMltArr\n",
    "sapsPredDF[\"normLAT\"] = normLatArr\n",
    "sapsPredDF[\"dst_index\"] = dstValArr\n",
    "\n",
    "\n",
    "\n",
    "# Now calculate the prob of occ!!\n",
    "sapsPredDF[\"prob_pred\"] = saps_prob_pred_func( sapsPredDF[\"MLAT\"],\\\n",
    "                                sapsPredDF[\"normMLT\"], sapsPredDF[\"dst_index\"] )\n",
    "# Only keep those values whose Dst is gt 0.2\n",
    "sapsPredDF = sapsPredDF[ sapsPredDF[\"prob_pred\"] > 0.2 ].reset_index(drop=True)\n",
    "\n",
    "# Now calculate the vel azim\n",
    "sapsPredDF[\"azim_pred\"] = saps_velAzim_pred_func( sapsPredDF[\"normMLT\"], sapsPredDF[\"dst_index\"] )\n",
    "\n",
    "\n",
    "# Calculate vel mean magn now!\n",
    "# We'll calculate scale, loc and shape\n",
    "# Scale\n",
    "sapsPredDF[\"scale_pred\"] = saps_vm_scale_pred_func( sapsPredDF[\"normMLT\"],\\\n",
    "                                        sapsPredDF[\"MLAT\"], sapsPredDF[\"dst_index\"] )\n",
    "# loc\n",
    "sapsPredDF[\"shape_pred\"] = saps_vm_shape_pred_func( sapsPredDF[\"normMLT\"],\\\n",
    "                                        sapsPredDF[\"MLAT\"], sapsPredDF[\"dst_index\"] )\n",
    "# Shape\n",
    "sapsPredDF[\"loc_pred\"] = saps_vm_loc_pred_func( sapsPredDF[\"normMLT\"],\\\n",
    "                                        sapsPredDF[\"MLAT\"], sapsPredDF[\"dst_index\"] )\n",
    "# Finally get to the velocities\n",
    "sapsPredDF[\"mean_vel_pred\"] = saps_velMagn_mean_pred_func( sapsPredDF[\"scale_pred\"],\\\n",
    "                                        sapsPredDF[\"shape_pred\"], sapsPredDF[\"loc_pred\"] )\n",
    "# Round off all values to 2 decimal places!\n",
    "sapsPredDF[\"prob_pred\"] = sapsPredDF[\"prob_pred\"].round(decimals=2)\n",
    "sapsPredDF[\"mean_vel_pred\"] = sapsPredDF[\"mean_vel_pred\"].round(decimals=2)\n",
    "sapsPredDF[\"azim_pred\"] = sapsPredDF[\"azim_pred\"].round(decimals=2)\n",
    "# sapsPredDF.round\n",
    "# Consider only those velocities whose magn are greater than 100 m/s\n",
    "# The shape pred should always be positive\n",
    "sapsPredDF = sapsPredDF[ sapsPredDF[\"shape_pred\"] > 0.].reset_index(drop=True)\n",
    "# sapsPredDF = sapsPredDF[ sapsPredDF[\"mean_vel_pred\"] > 100.].reset_index(drop=True)\n",
    "sapsPredDF.head()"
   ]
  },
  {
   "cell_type": "code",
   "execution_count": 7,
   "metadata": {
    "collapsed": false
   },
   "outputs": [
    {
     "name": "stdout",
     "output_type": "stream",
     "text": [
      "saved to--> ../data/full-model-sample-dst-50.txt\n"
     ]
    }
   ],
   "source": [
    "# Write the DF to a csv for plotting purposes\n",
    "outCols = [\"MLT\", \"MLAT\", \"prob_pred\", \"dst_index\", \"mean_vel_pred\", \"azim_pred\"]\n",
    "outFileName = \"../data/full-model-sample-dst\" + str(int(dstVal)) + \".txt\"\n",
    "sapsPredDF.to_csv(outFileName, columns = outCols, sep=' ', index=False, header=None)\n",
    "print \"saved to-->\", outFileName"
   ]
  },
  {
   "cell_type": "code",
   "execution_count": 8,
   "metadata": {
    "collapsed": false
   },
   "outputs": [
    {
     "name": "stdout",
     "output_type": "stream",
     "text": [
      "Empty DataFrame\n",
      "Columns: [normMLT, normLAT, prob_pred, MLT, MLAT, dst_index, shape_pred, scale_pred, loc_pred, mean_vel_pred, azim_pred]\n",
      "Index: []\n"
     ]
    }
   ],
   "source": [
    "print sapsPredDF[ (sapsPredDF[\"shape_pred\"] < 0) ]"
   ]
  },
  {
   "cell_type": "code",
   "execution_count": 9,
   "metadata": {
    "collapsed": false
   },
   "outputs": [
    {
     "name": "stdout",
     "output_type": "stream",
     "text": [
      "    normMLT  normLAT  prob_pred  MLT  MLAT  dst_index  shape_pred  scale_pred  \\\n",
      "7        -4     -1.5       0.21   20  56.0      -50.0   25.576120    0.208904   \n",
      "13       -4     -1.0       0.30   20  56.5      -50.0   23.415068    0.213112   \n",
      "20       -4     -0.5       0.41   20  57.0      -50.0   21.254015    0.217320   \n",
      "27       -4      0.0       0.53   20  57.5      -50.0   19.092962    0.221527   \n",
      "34       -4      0.5       0.64   20  58.0      -50.0   16.931910    0.225735   \n",
      "42       -4      1.0       0.74   20  58.5      -50.0   14.770858    0.229943   \n",
      "49       -4      1.5       0.81   20  59.0      -50.0   12.609805    0.234150   \n",
      "56       -4      2.0       0.84   20  59.5      -50.0   10.448753    0.238358   \n",
      "63       -4      2.5       0.82   20  60.0      -50.0    8.287700    0.242566   \n",
      "70       -4      3.0       0.77   20  60.5      -50.0    6.126648    0.246774   \n",
      "76       -4      3.5       0.68   20  61.0      -50.0    3.965595    0.250981   \n",
      "82       -4      4.0       0.57   20  61.5      -50.0    1.804543    0.255189   \n",
      "\n",
      "    loc_pred  mean_vel_pred  azim_pred  \n",
      "7   0.136285         605.68     -12.45  \n",
      "13  0.141879         623.53     -12.45  \n",
      "20  0.147703         641.81     -12.45  \n",
      "27  0.153765         660.55     -12.45  \n",
      "34  0.160076         679.75     -12.45  \n",
      "42  0.166647         699.39     -12.45  \n",
      "49  0.173487         719.45     -12.45  \n",
      "56  0.180608         739.85     -12.45  \n",
      "63  0.188021         760.33     -12.45  \n",
      "70  0.195738         780.13     -12.45  \n",
      "76  0.203772         795.89     -12.45  \n",
      "82  0.212136         780.46     -12.45  \n"
     ]
    }
   ],
   "source": [
    "print sapsPredDF[ (sapsPredDF[\"normMLT\"] == -4) ]"
   ]
  },
  {
   "cell_type": "code",
   "execution_count": null,
   "metadata": {
    "collapsed": true
   },
   "outputs": [],
   "source": []
  }
 ],
 "metadata": {
  "kernelspec": {
   "display_name": "Python 2",
   "language": "python",
   "name": "python2"
  },
  "language_info": {
   "codemirror_mode": {
    "name": "ipython",
    "version": 2
   },
   "file_extension": ".py",
   "mimetype": "text/x-python",
   "name": "python",
   "nbconvert_exporter": "python",
   "pygments_lexer": "ipython2",
   "version": "2.7.6"
  }
 },
 "nbformat": 4,
 "nbformat_minor": 1
}

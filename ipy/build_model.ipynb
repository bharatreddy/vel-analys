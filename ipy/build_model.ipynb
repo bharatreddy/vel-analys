{
 "cells": [
  {
   "cell_type": "code",
   "execution_count": 1,
   "metadata": {
    "collapsed": true
   },
   "outputs": [],
   "source": [
    "import pandas\n",
    "import datetime\n",
    "import numpy\n",
    "from sklearn import linear_model\n",
    "import scipy\n",
    "from scipy.optimize import curve_fit\n",
    "import seaborn as sns\n",
    "import matplotlib.pyplot as plt\n",
    "%matplotlib inline\n",
    "from matplotlib.colors import ListedColormap\n",
    "from matplotlib.colors import Normalize\n",
    "from matplotlib import ticker\n",
    "from matplotlib import rcParams"
   ]
  },
  {
   "cell_type": "code",
   "execution_count": 2,
   "metadata": {
    "collapsed": false
   },
   "outputs": [],
   "source": [
    "# Some parameters we'll use\n",
    "probCutOff = 0.2\n",
    "modelVelScale = [ 0., 2000. ]\n",
    "velsNormArr = numpy.arange(0.,2100.,100.) / max( modelVelScale )\n",
    "dstVal = -100."
   ]
  },
  {
   "cell_type": "code",
   "execution_count": 3,
   "metadata": {
    "collapsed": true
   },
   "outputs": [],
   "source": [
    "# SAPS Prob Pred Func\n",
    "def saps_prob_pred_func(MLAT, normMLT, dst):    \n",
    "    (a_sx, b_sx, a_sy, b_sy, a_xo, b_xo, a_yo, b_yo, a_o, b_o, theta) = \\\n",
    "        ( 3.11, 3.71e-03, 1.72,\\\n",
    "             8.19e-04, 4.59, 6.33e-02, -1.19, 3.21e-02,\n",
    "             8.93e-01, -1.47e-03, 6.92e-01)\n",
    "    x = MLAT - 57.5 # NORMALIZE\n",
    "    y = normMLT\n",
    "    sigma_x = a_sx + b_sx * dst\n",
    "    sigma_y = a_sy + b_sy * dst\n",
    "    xo = a_xo + b_xo * dst\n",
    "    yo = a_yo + b_yo * dst\n",
    "    amplitude = a_o + b_o * dst    \n",
    "    \n",
    "    a = (numpy.cos(theta)**2)/(2*sigma_x**2) + (numpy.sin(theta)**2)/(2*sigma_y**2)\n",
    "    b = -(numpy.sin(2*theta))/(4*sigma_x**2) + (numpy.sin(2*theta))/(4*sigma_y**2)\n",
    "    c = (numpy.sin(theta)**2)/(2*sigma_x**2) + (numpy.cos(theta)**2)/(2*sigma_y**2)\n",
    "    prob = amplitude*numpy.exp( - (a*((x-xo)**2) + 2*b*(x-xo)*(y-yo) \n",
    "                            + c*((y-yo)**2)))\n",
    "    return prob"
   ]
  },
  {
   "cell_type": "code",
   "execution_count": 4,
   "metadata": {
    "collapsed": true
   },
   "outputs": [],
   "source": [
    "# SAPS Vel Azim Pred Func\n",
    "def saps_velAzim_pred_func(normMLT, dst):\n",
    "\n",
    "    ( a1mlt_azim, a2mlt_azim,\\\n",
    "               b1mlt_azim, b2mlt_azim ) = ( -1.18e+01, -4.55e-02, 4.24e-01, -6.13e-03 )\n",
    "    \n",
    "    # model shape parameters\n",
    "    # mlt\n",
    "    a_azim = a1mlt_azim + a2mlt_azim * dst\n",
    "    b_azim = b1mlt_azim + b2mlt_azim * dst\n",
    "    # func\n",
    "    azim = a_azim + b_azim*(normMLT)\n",
    "    \n",
    "    return azim"
   ]
  },
  {
   "cell_type": "code",
   "execution_count": 5,
   "metadata": {
    "collapsed": true
   },
   "outputs": [],
   "source": [
    "# SAPS Vel Magn Pred Funcs\n",
    "# We need to get the scale, shape and loc\n",
    "# parameters and then use them get the pdf \n",
    "# and then get the mean velocity from the pdf!!!\n",
    "def saps_vm_scale_pred_func(mlt,mlat, dst):\n",
    "    \n",
    "    ( a_ascmlt, b_ascmlt, a_bscmlt, \\\n",
    "         b_bscmlt, a_cscmlt, b_cscmlt,\\\n",
    "         a_asclat, b_asclat, a_bsclat, b_bsclat ) = ( -1.23e-02, -6.02e-05, -2.9e-04,\\\n",
    "                            -1.79e-05, -1.26e-04, -3.32e-06,\\\n",
    "                            3.47e+01, 2.2e-01, -8.09e-01, -9.76e-04 )\n",
    "    \n",
    "    \n",
    "    a_scale_mlt = a_ascmlt + b_ascmlt * dst\n",
    "    b_scale_mlt = a_bscmlt + b_bscmlt * dst\n",
    "    c_scale_mlt = a_cscmlt + b_cscmlt * dst\n",
    "    # mlat\n",
    "    a_scale_mlat = a_asclat + b_asclat * dst\n",
    "    b_scale_mlat = a_bsclat + b_bsclat * dst\n",
    "    # func\n",
    "    scale = ( a_scale_mlt + b_scale_mlt*(mlt) + c_scale_mlt*(mlt**2) ) * ( a_scale_mlat + b_scale_mlat*(mlat) )\n",
    "    \n",
    "    return scale\n",
    "\n",
    "\n",
    "def saps_vm_shape_pred_func(mlt,mlat, dst):\n",
    "    \n",
    "    ( a_ashmlt, b_ashmlt, a_bshmlt, b_bshmlt,\\\n",
    "               a_ashlat, b_ashlat, a_bshlat, b_bshlat ) = ( -4.72e-02, -3.63e-04, -1.59e-03,\\\n",
    "                                     -2.3e-06, -5.61e+03, 1.19e+02, 8.42e+01, -2.05e+00 ) \n",
    "    \n",
    "    # model shape parameters\n",
    "    # mlt\n",
    "    a_shape_mlt = a_ashmlt + b_ashmlt * dst\n",
    "    b_shape_mlt = a_bshmlt + b_bshmlt * dst\n",
    "    # mlat\n",
    "    a_shape_mlat = a_ashlat + b_ashlat * dst\n",
    "    b_shape_mlat = a_bshlat + b_bshlat * dst\n",
    "    # func\n",
    "    shape = ( a_shape_mlt + b_shape_mlt*(mlt) ) * ( a_shape_mlat + b_shape_mlat*(mlat) )\n",
    "    \n",
    "    return shape\n",
    "\n",
    "def saps_vm_loc_pred_func(mlt,mlat, dst):\n",
    "    \n",
    "    \n",
    "    ( a_alcmlt, b_alcmlt, a_blcmlt, b_blcmlt,\\\n",
    "               a_alclat, b_alclat, a_blclat, b_blclat ) = ( -2.81e-03, -2.11e-05, -1.01e-04, -5.51e-06,\\\n",
    "                                        -5.39e-01, 1.50e-03, 7.38e-02, -1.33e-04 )\n",
    "    \n",
    "    \n",
    "    # model loc parameters\n",
    "    # mlt\n",
    "    a_loc_mlt = a_alcmlt + b_alcmlt * dst\n",
    "    b_loc_mlt = a_blcmlt + b_blcmlt * dst\n",
    "    # malt\n",
    "    a_loc_mlat = a_alclat + b_alclat * dst\n",
    "    b_loc_mlat = a_blclat + b_blclat * dst\n",
    "    # func\n",
    "    loc = ( a_loc_mlt + b_loc_mlt*(mlt) ) * ( a_loc_mlat*numpy.exp(b_loc_mlat*mlat) )\n",
    "    return loc\n",
    "\n",
    "def saps_velMagn_mean_pred_func( scale, shape, loc ):\n",
    "    \n",
    "    meanNormVel = scipy.stats.skewnorm.mean( shape, loc=loc, scale=scale )\n",
    "    meanVel = meanNormVel * max( modelVelScale )\n",
    "    return meanVel"
   ]
  },
  {
   "cell_type": "code",
   "execution_count": 6,
   "metadata": {
    "collapsed": false
   },
   "outputs": [
    {
     "data": {
      "text/html": [
       "<div style=\"max-height:1000px;max-width:1500px;overflow:auto;\">\n",
       "<table border=\"1\" class=\"dataframe\">\n",
       "  <thead>\n",
       "    <tr style=\"text-align: right;\">\n",
       "      <th></th>\n",
       "      <th>normMLT</th>\n",
       "      <th>normLAT</th>\n",
       "      <th>prob_pred</th>\n",
       "      <th>MLT</th>\n",
       "      <th>MLAT</th>\n",
       "      <th>dst_index</th>\n",
       "      <th>shape_pred</th>\n",
       "      <th>scale_pred</th>\n",
       "      <th>loc_pred</th>\n",
       "      <th>mean_vel_pred</th>\n",
       "      <th>azim_pred</th>\n",
       "    </tr>\n",
       "  </thead>\n",
       "  <tbody>\n",
       "    <tr>\n",
       "      <th>0</th>\n",
       "      <td>-4</td>\n",
       "      <td>-5.5</td>\n",
       "      <td> 0.24</td>\n",
       "      <td> 20</td>\n",
       "      <td> 52.0</td>\n",
       "      <td>-100</td>\n",
       "      <td> 13.494936</td>\n",
       "      <td> 0.218247</td>\n",
       "      <td> 0.159649</td>\n",
       "      <td> 666.62</td>\n",
       "      <td>-11.40</td>\n",
       "    </tr>\n",
       "    <tr>\n",
       "      <th>1</th>\n",
       "      <td>-3</td>\n",
       "      <td>-5.5</td>\n",
       "      <td> 0.29</td>\n",
       "      <td> 21</td>\n",
       "      <td> 52.0</td>\n",
       "      <td>-100</td>\n",
       "      <td> 16.856312</td>\n",
       "      <td> 0.216838</td>\n",
       "      <td> 0.130912</td>\n",
       "      <td> 607.24</td>\n",
       "      <td>-10.36</td>\n",
       "    </tr>\n",
       "    <tr>\n",
       "      <th>2</th>\n",
       "      <td>-2</td>\n",
       "      <td>-5.5</td>\n",
       "      <td> 0.27</td>\n",
       "      <td> 22</td>\n",
       "      <td> 52.0</td>\n",
       "      <td>-100</td>\n",
       "      <td> 20.217688</td>\n",
       "      <td> 0.205420</td>\n",
       "      <td> 0.102175</td>\n",
       "      <td> 531.75</td>\n",
       "      <td> -9.32</td>\n",
       "    </tr>\n",
       "    <tr>\n",
       "      <th>3</th>\n",
       "      <td>-5</td>\n",
       "      <td>-5.0</td>\n",
       "      <td> 0.23</td>\n",
       "      <td> 19</td>\n",
       "      <td> 52.5</td>\n",
       "      <td>-100</td>\n",
       "      <td>  9.540700</td>\n",
       "      <td> 0.212717</td>\n",
       "      <td> 0.196771</td>\n",
       "      <td> 731.14</td>\n",
       "      <td>-12.44</td>\n",
       "    </tr>\n",
       "    <tr>\n",
       "      <th>4</th>\n",
       "      <td>-4</td>\n",
       "      <td>-5.0</td>\n",
       "      <td> 0.35</td>\n",
       "      <td> 20</td>\n",
       "      <td> 52.5</td>\n",
       "      <td>-100</td>\n",
       "      <td> 12.705420</td>\n",
       "      <td> 0.221442</td>\n",
       "      <td> 0.166755</td>\n",
       "      <td> 685.79</td>\n",
       "      <td>-11.40</td>\n",
       "    </tr>\n",
       "  </tbody>\n",
       "</table>\n",
       "</div>"
      ],
      "text/plain": [
       "   normMLT  normLAT  prob_pred  MLT  MLAT  dst_index  shape_pred  scale_pred  \\\n",
       "0       -4     -5.5       0.24   20  52.0       -100   13.494936    0.218247   \n",
       "1       -3     -5.5       0.29   21  52.0       -100   16.856312    0.216838   \n",
       "2       -2     -5.5       0.27   22  52.0       -100   20.217688    0.205420   \n",
       "3       -5     -5.0       0.23   19  52.5       -100    9.540700    0.212717   \n",
       "4       -4     -5.0       0.35   20  52.5       -100   12.705420    0.221442   \n",
       "\n",
       "   loc_pred  mean_vel_pred  azim_pred  \n",
       "0  0.159649         666.62     -11.40  \n",
       "1  0.130912         607.24     -10.36  \n",
       "2  0.102175         531.75      -9.32  \n",
       "3  0.196771         731.14     -12.44  \n",
       "4  0.166755         685.79     -11.40  "
      ]
     },
     "execution_count": 6,
     "metadata": {},
     "output_type": "execute_result"
    }
   ],
   "source": [
    "colList = [\"normMLT\", \"normLAT\", \"prob_pred\",\\\n",
    "           \"MLT\", \"MLAT\", \"dst_index\", \"shape_pred\",\\\n",
    "           \"scale_pred\", \"loc_pred\", \"mean_vel_pred\", \"azim_pred\"]\n",
    "sapsPredDF = pandas.DataFrame(columns=colList)\n",
    "latArr = []\n",
    "mltArr = []\n",
    "normLatArr = []\n",
    "normMltArr = []\n",
    "dstValArr = []\n",
    "dstBinArr = []\n",
    "\n",
    "\n",
    "for x in numpy.arange(50., 65., 0.5):\n",
    "    for y in range(-11,5):\n",
    "        currNormLat =  x - 57.5\n",
    "        normLatArr.append( currNormLat )\n",
    "        normMltArr.append( y )\n",
    "        if y > 0:\n",
    "            mltArr.append( y )\n",
    "        else:\n",
    "            mltArr.append( y + 24 )\n",
    "        latArr.append( x )\n",
    "        dstValArr.append(dstVal)\n",
    "        \n",
    "sapsPredDF[\"MLT\"] = mltArr\n",
    "sapsPredDF[\"MLAT\"] = latArr\n",
    "sapsPredDF[\"normMLT\"] = normMltArr\n",
    "sapsPredDF[\"normLAT\"] = normLatArr\n",
    "sapsPredDF[\"dst_index\"] = dstValArr\n",
    "\n",
    "\n",
    "\n",
    "# Now calculate the prob of occ!!\n",
    "sapsPredDF[\"prob_pred\"] = saps_prob_pred_func( sapsPredDF[\"MLAT\"],\\\n",
    "                                sapsPredDF[\"normMLT\"], sapsPredDF[\"dst_index\"] )\n",
    "# Only keep those values whose Dst is gt 0.2\n",
    "sapsPredDF = sapsPredDF[ sapsPredDF[\"prob_pred\"] > 0.2 ].reset_index(drop=True)\n",
    "\n",
    "# Now calculate the vel azim\n",
    "sapsPredDF[\"azim_pred\"] = saps_velAzim_pred_func( sapsPredDF[\"normMLT\"], sapsPredDF[\"dst_index\"] )\n",
    "\n",
    "\n",
    "# Calculate vel mean magn now!\n",
    "# We'll calculate scale, loc and shape\n",
    "# Scale\n",
    "sapsPredDF[\"scale_pred\"] = saps_vm_scale_pred_func( sapsPredDF[\"normMLT\"],\\\n",
    "                                        sapsPredDF[\"MLAT\"], sapsPredDF[\"dst_index\"] )\n",
    "# loc\n",
    "sapsPredDF[\"shape_pred\"] = saps_vm_shape_pred_func( sapsPredDF[\"normMLT\"],\\\n",
    "                                        sapsPredDF[\"MLAT\"], sapsPredDF[\"dst_index\"] )\n",
    "# Shape\n",
    "sapsPredDF[\"loc_pred\"] = saps_vm_loc_pred_func( sapsPredDF[\"normMLT\"],\\\n",
    "                                        sapsPredDF[\"MLAT\"], sapsPredDF[\"dst_index\"] )\n",
    "# Finally get to the velocities\n",
    "sapsPredDF[\"mean_vel_pred\"] = saps_velMagn_mean_pred_func( sapsPredDF[\"scale_pred\"],\\\n",
    "                                        sapsPredDF[\"shape_pred\"], sapsPredDF[\"loc_pred\"] )\n",
    "# Round off all values to 2 decimal places!\n",
    "sapsPredDF[\"prob_pred\"] = sapsPredDF[\"prob_pred\"].round(decimals=2)\n",
    "sapsPredDF[\"mean_vel_pred\"] = sapsPredDF[\"mean_vel_pred\"].round(decimals=2)\n",
    "sapsPredDF[\"azim_pred\"] = sapsPredDF[\"azim_pred\"].round(decimals=2)\n",
    "# sapsPredDF.round\n",
    "# Consider only those velocities whose magn are greater than 200 m/s\n",
    "# sapsPredDF = sapsPredDF[ sapsPredDF[\"mean_vel_pred\"] > 200.].reset_index(drop=True)\n",
    "sapsPredDF.head()"
   ]
  },
  {
   "cell_type": "code",
   "execution_count": 7,
   "metadata": {
    "collapsed": false
   },
   "outputs": [
    {
     "name": "stdout",
     "output_type": "stream",
     "text": [
      "saved to--> ../data/full-model-sample-dst-100.txt\n"
     ]
    }
   ],
   "source": [
    "# Write the DF to a csv for plotting purposes\n",
    "outCols = [\"MLT\", \"MLAT\", \"prob_pred\", \"dst_index\", \"mean_vel_pred\", \"azim_pred\"]\n",
    "outFileName = \"../data/full-model-sample-dst\" + str(int(dstVal)) + \".txt\"\n",
    "sapsPredDF.to_csv(outFileName, columns = outCols, sep=' ', index=False, header=None)\n",
    "print \"saved to-->\", outFileName"
   ]
  },
  {
   "cell_type": "code",
   "execution_count": 8,
   "metadata": {
    "collapsed": false
   },
   "outputs": [
    {
     "name": "stdout",
     "output_type": "stream",
     "text": [
      "    normMLT  normLAT  prob_pred  MLT  MLAT  dst_index  shape_pred  scale_pred  \\\n",
      "36       -3     -2.5       0.84   21  55.0       -100   10.939280    0.235887   \n",
      "43       -3     -2.0       0.82   21  55.5       -100    9.953108    0.239062   \n",
      "50       -3     -1.5       0.76   21  56.0       -100    8.966936    0.242237   \n",
      "57       -3     -1.0       0.66   21  56.5       -100    7.980764    0.245412   \n",
      "64       -3     -0.5       0.54   21  57.0       -100    6.994592    0.248587   \n",
      "71       -3      0.0       0.42   21  57.5       -100    6.008420    0.251762   \n",
      "72       -2      0.0       0.20   22  57.5       -100    7.206580    0.238506   \n",
      "78       -3      0.5       0.31   21  58.0       -100    5.022248    0.254937   \n",
      "84       -3      1.0       0.21   21  58.5       -100    4.036076    0.258112   \n",
      "\n",
      "    loc_pred  mean_vel_pred  azim_pred  \n",
      "36  0.170005         714.87     -10.36  \n",
      "43  0.177572         734.72     -10.36  \n",
      "50  0.185476         755.13     -10.36  \n",
      "57  0.193732         776.05     -10.36  \n",
      "64  0.202355         797.41     -10.36  \n",
      "71  0.211363         819.03     -10.36  \n",
      "72  0.164966         706.92      -9.32  \n",
      "78  0.220771         840.53     -10.36  \n",
      "84  0.230598         860.99     -10.36  \n"
     ]
    }
   ],
   "source": [
    "print sapsPredDF[ (sapsPredDF[\"mean_vel_pred\"] > 700.) & \\\n",
    "                (sapsPredDF[\"normMLT\"] > -4)]"
   ]
  },
  {
   "cell_type": "code",
   "execution_count": 9,
   "metadata": {
    "collapsed": false
   },
   "outputs": [
    {
     "name": "stdout",
     "output_type": "stream",
     "text": [
      "    normMLT  normLAT  prob_pred  MLT  MLAT  dst_index  shape_pred  scale_pred  \\\n",
      "52       -8     -1.0       0.22   16  56.5       -100    0.023404    0.140110   \n",
      "59       -8     -0.5       0.25   16  57.0       -100    0.020512    0.141923   \n",
      "66       -8      0.0       0.26   16  57.5       -100    0.017620    0.143735   \n",
      "73       -8      0.5       0.25   16  58.0       -100    0.014728    0.145548   \n",
      "79       -8      1.0       0.23   16  58.5       -100    0.011836    0.147361   \n",
      "85       -8      1.5       0.21   16  59.0       -100    0.008944    0.149173   \n",
      "\n",
      "    loc_pred  mean_vel_pred  azim_pred  \n",
      "52  0.406365         817.96     -15.55  \n",
      "59  0.424453         853.55     -15.55  \n",
      "66  0.443346         890.73     -15.55  \n",
      "73  0.463081         929.58     -15.55  \n",
      "79  0.483693         970.17     -15.55  \n",
      "85  0.505224        1012.58     -15.55  \n"
     ]
    }
   ],
   "source": [
    "print sapsPredDF[ (sapsPredDF[\"normMLT\"] == -8) ]"
   ]
  },
  {
   "cell_type": "code",
   "execution_count": 10,
   "metadata": {
    "collapsed": false
   },
   "outputs": [
    {
     "name": "stdout",
     "output_type": "stream",
     "text": [
      "    normMLT  normLAT  prob_pred  MLT  MLAT  dst_index  shape_pred  scale_pred  \\\n",
      "0        -4     -5.5       0.24   20  52.0       -100   13.494936    0.218247   \n",
      "4        -4     -5.0       0.35   20  52.5       -100   12.705420    0.221442   \n",
      "9        -4     -4.5       0.48   20  53.0       -100   11.915904    0.224638   \n",
      "15       -4     -4.0       0.63   20  53.5       -100   11.126388    0.227833   \n",
      "21       -4     -3.5       0.77   20  54.0       -100   10.336872    0.231029   \n",
      "28       -4     -3.0       0.90   20  54.5       -100    9.547356    0.234225   \n",
      "35       -4     -2.5       0.99   20  55.0       -100    8.757840    0.237420   \n",
      "42       -4     -2.0       1.02   20  55.5       -100    7.968324    0.240616   \n",
      "49       -4     -1.5       1.00   20  56.0       -100    7.178808    0.243811   \n",
      "56       -4     -1.0       0.92   20  56.5       -100    6.389292    0.247007   \n",
      "63       -4     -0.5       0.80   20  57.0       -100    5.599776    0.250203   \n",
      "70       -4      0.0       0.66   20  57.5       -100    4.810260    0.253398   \n",
      "77       -4      0.5       0.51   20  58.0       -100    4.020744    0.256594   \n",
      "83       -4      1.0       0.38   20  58.5       -100    3.231228    0.259789   \n",
      "89       -4      1.5       0.26   20  59.0       -100    2.441712    0.262985   \n",
      "\n",
      "    loc_pred  mean_vel_pred  azim_pred  \n",
      "0   0.159649         666.62      -11.4  \n",
      "4   0.166755         685.79      -11.4  \n",
      "9   0.174178         705.57      -11.4  \n",
      "15  0.181931         725.97      -11.4  \n",
      "21  0.190029         747.01      -11.4  \n",
      "28  0.198488         768.71      -11.4  \n",
      "35  0.207323         791.07      -11.4  \n",
      "42  0.216551         814.08      -11.4  \n",
      "49  0.226190         837.73      -11.4  \n",
      "56  0.236259         861.94      -11.4  \n",
      "63  0.246775         886.60      -11.4  \n",
      "70  0.257759         911.42      -11.4  \n",
      "77  0.269233         935.82      -11.4  \n",
      "83  0.281217         958.47      -11.4  \n",
      "89  0.293735         975.83      -11.4  \n"
     ]
    }
   ],
   "source": [
    "print sapsPredDF[ (sapsPredDF[\"normMLT\"] == -4) ]"
   ]
  },
  {
   "cell_type": "code",
   "execution_count": null,
   "metadata": {
    "collapsed": true
   },
   "outputs": [],
   "source": []
  }
 ],
 "metadata": {
  "kernelspec": {
   "display_name": "Python 2",
   "language": "python",
   "name": "python2"
  },
  "language_info": {
   "codemirror_mode": {
    "name": "ipython",
    "version": 2
   },
   "file_extension": ".py",
   "mimetype": "text/x-python",
   "name": "python",
   "nbconvert_exporter": "python",
   "pygments_lexer": "ipython2",
   "version": "2.7.9"
  }
 },
 "nbformat": 4,
 "nbformat_minor": 1
}
